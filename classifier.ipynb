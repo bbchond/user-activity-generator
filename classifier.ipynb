{
 "cells": [
  {
   "cell_type": "code",
   "execution_count": 253,
   "metadata": {},
   "outputs": [],
   "source": [
    "import numpy\n",
    "from src.data.datamanager import DataManager\n",
    "from src.data.window import WindowSequence, KerasSequence\n",
    "from src.data.dataset import MotionSense, Activity\n",
    "from src.visual.plotter import Plotter, VecData\n",
    "from src.network.gan import Gan, SimpleGan, SmoothingType, CGan, AdversarialAutoencoder, VaeGan\n",
    "from src.network.generator import SimpleMlpGen\n",
    "from src.network.discriminator import SimpleMlpDisc\n",
    "from keras.optimizers import SGD, Adam, RMSprop\n",
    "from pathlib import Path\n",
    "import toml\n",
    "datasets = toml.load(\"config.toml\")[\"dataset\"]\n",
    "WISDM_PATH = Path(datasets[\"wisdm\"])\n",
    "MOTION_SENSE_PATH = Path(datasets[\"motion-sense\"])\n",
    "dataset = MotionSense(MOTION_SENSE_PATH)\n",
    "datamanager = DataManager(dataset)\n",
    "all_data=datamanager.read()\n",
    "windows = datamanager.create_windows(set(Activity), 100, shuffle=True, seed=1, columns=['xaccel_norm', 'yaccel_norm', 'zaccel_norm', 'xrot_norm', 'yrot_norm', 'zrot_norm'])#, bypass_raw=\"6a3bf91cfb\")\n",
    "# windows = datamanager.create_windows(set(Activity), 100, shuffle=False, seed=1, columns=['xaccel_norm', 'yaccel_norm', 'zaccel_norm', 'xrot_norm', 'yrot_norm', 'zrot_norm', \"activity\"])#, bypass_raw=\"6a3bf91cfb\")"
   ]
  },
  {
   "cell_type": "code",
   "execution_count": 355,
   "metadata": {},
   "outputs": [],
   "source": [
    "import plotly.express as px\n",
    "import plotly.figure_factory as ff\n",
    "\n",
    "from sklearn.metrics import confusion_matrix\n",
    "\n",
    "import matplotlib.pyplot as plt\n",
    "import seaborn as sns\n",
    "sns.set()\n",
    "\n",
    "def confusion(y_pred, y_true, classes, title=None):\n",
    "    data = confusion_matrix(y_true, y_pred, labels=[i for i in range(len(classes))], normalize=\"pred\")\n",
    "    data = data*100\n",
    "    \n",
    "    # Draw a heatmap with the numeric values in each cell\n",
    "    f, ax = plt.subplots(figsize=(9, 6))\n",
    "    h = sns.heatmap(data, annot=True, fmt=\".1f\", linewidths=.5, ax=ax)\n",
    "    h.set(xticklabels=classes, yticklabels=classes, xlabel=\"Non-truth\", ylabel=\"Truth\")\n",
    "    if title:\n",
    "        h.set(title=title)\n",
    "    \n",
    "    \n",
    "\n",
    "#     data = data / data.sum(axis=1)[:, numpy.newaxis]\n",
    "#     fig = px.imshow(\n",
    "#         data,\n",
    "#         labels=dict(x=\"Truth\", y=\"Predicted\", color=\"Items\"),\n",
    "#         x=sorted(dataset.ACTIVITIES.values()),\n",
    "#         y=sorted(dataset.ACTIVITIES.values()))\n",
    "#     fig.update_xaxes(side=\"top\")\n",
    "#     fig.show()"
   ]
  },
  {
   "cell_type": "markdown",
   "metadata": {},
   "source": [
    "# Preparing Data"
   ]
  },
  {
   "cell_type": "code",
   "execution_count": 223,
   "metadata": {},
   "outputs": [
    {
     "name": "stdout",
     "output_type": "stream",
     "text": [
      "X_train: (9514, 100, 6), X_test: (4078, 100, 6)\n",
      "Y_train: (9514,), Y_test: (4078,)\n",
      "Y_train_onehot: (9514, 6), Y_test_onehot: (4078, 6)\n",
      "X_train_flat: (9514, 600), X_test_flat: (4078, 600)\n"
     ]
    }
   ],
   "source": [
    "X = []\n",
    "Y = []\n",
    "Y_onehot = []\n",
    "for x, y in windows.to_keras_sequence(1):\n",
    "    x = x.squeeze(axis=0)\n",
    "    y = y.squeeze(axis=0)\n",
    "    Y_onehot.append(y)\n",
    "    X.append(x)\n",
    "    Y.append(y.argmax())\n",
    "X = numpy.asarray(X)\n",
    "Y = numpy.asarray(Y)\n",
    "Y_onehot = numpy.asarray(Y_onehot)\n",
    "\n",
    "boundary = round(len(X)*(70/100))\n",
    "X_train, X_test = X[:boundary], X[boundary:]\n",
    "Y_train, Y_test = Y[:boundary], Y[boundary:]\n",
    "Y_train_onehot, Y_test_onehot = Y_onehot[:boundary], Y_onehot[boundary:]\n",
    "\n",
    "s = X_train.shape\n",
    "X_train_flat, X_test_flat = X_train.reshape(-1, s[-1] * s[-2]), X_test.reshape(-1, s[-1] * s[-2])\n",
    "\n",
    "print(f\"X_train: {X_train.shape}, X_test: {X_test.shape}\")\n",
    "print(f\"Y_train: {Y_train.shape}, Y_test: {Y_test.shape}\")\n",
    "print(f\"Y_train_onehot: {Y_train_onehot.shape}, Y_test_onehot: {Y_test_onehot.shape}\")\n",
    "print(f\"X_train_flat: {X_train_flat.shape}, X_test_flat: {X_test_flat.shape}\")"
   ]
  },
  {
   "cell_type": "markdown",
   "metadata": {},
   "source": [
    "# KNN"
   ]
  },
  {
   "cell_type": "code",
   "execution_count": 61,
   "metadata": {},
   "outputs": [
    {
     "name": "stdout",
     "output_type": "stream",
     "text": [
      "Started 1\n",
      "Started 3\n",
      "Started 5\n",
      "Started 21\n",
      "Started 99\n",
      "Done\n"
     ]
    }
   ],
   "source": [
    "from sklearn.neighbors import KNeighborsClassifier\n",
    "\n",
    "knn_1 = KNeighborsClassifier(n_neighbors=1, n_jobs=-1)\n",
    "knn_3 = KNeighborsClassifier(n_neighbors=3, n_jobs=-1)\n",
    "knn_5 = KNeighborsClassifier(n_neighbors=5, n_jobs=-1)\n",
    "knn_21 = KNeighborsClassifier(n_neighbors=21, n_jobs=-1)\n",
    "knn_99 = KNeighborsClassifier(n_neighbors=99, n_jobs=-1)\n",
    "\n",
    "\n",
    "print(\"Started 1\")\n",
    "knn_1.fit(X_train_flat, Y_train)\n",
    "print(\"Started 3\")\n",
    "knn_3.fit(X_train_flat, Y_train)\n",
    "print(\"Started 5\")\n",
    "knn_5.fit(X_train_flat, Y_train)\n",
    "print(\"Started 21\")\n",
    "knn_21.fit(X_train_flat, Y_train)\n",
    "print(\"Started 99\")\n",
    "knn_99.fit(X_train_flat, Y_train)\n",
    "print(\"Done\")"
   ]
  },
  {
   "cell_type": "code",
   "execution_count": 62,
   "metadata": {},
   "outputs": [
    {
     "name": "stdout",
     "output_type": "stream",
     "text": [
      "knn_1: 89.4%\n",
      "knn_3: 87.8%\n",
      "knn_5: 86.2%\n",
      "knn_21: 76.0%\n",
      "knn_99: 57.4%\n"
     ]
    }
   ],
   "source": [
    "print(f\"knn_1: {knn_1.score(X_test_flat, Y_test):.1%}\")\n",
    "print(f\"knn_3: {knn_3.score(X_test_flat, Y_test):.1%}\")\n",
    "print(f\"knn_5: {knn_5.score(X_test_flat, Y_test):.1%}\")\n",
    "print(f\"knn_21: {knn_21.score(X_test_flat, Y_test):.1%}\")\n",
    "                print(f\"knn_99: {knn_99.score(X_test_flat, Y_test):.1%}%\")"
   ]
  },
  {
   "cell_type": "code",
   "execution_count": 167,
   "metadata": {
    "scrolled": false
   },
   "outputs": [
    {
     "data": {
      "image/png": "[encoded data removed]",
      "text/plain": [
       "<Figure size 432x288 with 2 Axes>"
      ]
     },
     "metadata": {
      "needs_background": "light"
     },
     "output_type": "display_data"
    }
   ],
   "source": [
    "y_pred = knn_1.predict(X_test_flat)\n",
    "conf = confusion_matrix(Y_test, y_pred, labels=[i for i in range(windows.num_classes)], normalize=\"pred\")\n",
    "print(conf)"
   ]
  },
  {
   "cell_type": "code",
   "execution_count": 174,
   "metadata": {},
   "outputs": [],
   "source": [
    "y_score = knn_1.predict_proba(X_test_flat)"
   ]
  },
  {
   "cell_type": "code",
   "execution_count": null,
   "metadata": {},
   "outputs": [],
   "source": [
    "from matplotlib import pyplot as plt\n",
    "from sklearn.metrics import plot_confusion_matrix\n",
    "disp = plot_confusion_matrix(knn_1, X_test_flat, Y_test,\n",
    "                                 display_labels=sorted(dataset.ACTIVITIES.values()),\n",
    "                                 cmap=plt.cm.Blues,\n",
    "                            normalize=\"pred\")\n",
    "plt.show()\n",
    "# confusion(y_pred, Y_test, windows.num_classes)"
   ]
  },
  {
   "cell_type": "code",
   "execution_count": 169,
   "metadata": {},
   "outputs": [
    {
     "name": "stdout",
     "output_type": "stream",
     "text": [
      "Precision: 0.9047982726273632, Recall: 0.8571205900364474, Fscore: 0.8711006584267099\n"
     ]
    }
   ],
   "source": [
    "from sklearn.metrics import precision_recall_fscore_support\n",
    "\n",
    "prec, recall, fscore, sup = precision_recall_fscore_support(Y_test, y_pred, average='macro')\n",
    "print(f\"Precision: {prec:.1%}, Recall: {recall:.1%}, Fscore: {fscore:.1%}\")"
   ]
  },
  {
   "cell_type": "code",
   "execution_count": 176,
   "metadata": {},
   "outputs": [
    {
     "name": "stdout",
     "output_type": "stream",
     "text": [
      "Roc Auc Score: 0.92\n"
     ]
    }
   ],
   "source": [
    "from sklearn.metrics import roc_auc_score\n",
    "\n",
    "auc = roc_auc_score(Y_test, y_score, multi_class=\"ovr\")\n",
    "print(f\"Roc Auc Score: {auc::.1%}\")"
   ]
  },
  {
   "cell_type": "markdown",
   "metadata": {},
   "source": [
    "# Radius Nearest Neighbors"
   ]
  },
  {
   "cell_type": "code",
   "execution_count": 91,
   "metadata": {},
   "outputs": [
    {
     "name": "stdout",
     "output_type": "stream",
     "text": [
      "Started 05\n",
      "Started 1\n",
      "Started 2\n",
      "Started 3\n",
      "Done\n"
     ]
    }
   ],
   "source": [
    "from sklearn.neighbors import RadiusNeighborsClassifier\n",
    "\n",
    "rnn_05 = RadiusNeighborsClassifier(radius=0.01, n_jobs=-1, outlier_label=\"most_frequent\")\n",
    "rnn_1 = RadiusNeighborsClassifier(radius=0.05, n_jobs=-1, outlier_label=\"most_frequent\")\n",
    "rnn_2 = RadiusNeighborsClassifier(radius=0.1, n_jobs=-1, outlier_label=\"most_frequent\")\n",
    "rnn_3 = RadiusNeighborsClassifier(radius=0.5, n_jobs=-1, outlier_label=\"most_frequent\")\n",
    "\n",
    "print(\"Started 05\")\n",
    "rnn_05.fit(X_train_flat, Y_train)\n",
    "print(\"Started 1\")\n",
    "rnn_1.fit(X_train_flat, Y_train)\n",
    "print(\"Started 2\")\n",
    "rnn_2.fit(X_train_flat, Y_train)\n",
    "print(\"Started 3\")\n",
    "rnn_3.fit(X_train_flat, Y_train)\n",
    "print(\"Done\")"
   ]
  },
  {
   "cell_type": "code",
   "execution_count": 92,
   "metadata": {},
   "outputs": [
    {
     "name": "stdout",
     "output_type": "stream",
     "text": [
      "rnn_05: 39.9%\n",
      "rnn_1: 51.3%\n",
      "rnn_2: 48.8%\n",
      "rnn_3: 49.6%\n"
     ]
    }
   ],
   "source": [
    "print(f\"rnn_05: {rnn_05.score(X_test_flat, Y_test)*100:2.1f}%\")\n",
    "print(f\"rnn_1: {rnn_1.score(X_test_flat, Y_test)*100:2.1f}%\")\n",
    "print(f\"rnn_2: {rnn_2.score(X_test_flat, Y_test)*100:2.1f}%\")\n",
    "print(f\"rnn_3: {rnn_3.score(X_test_flat, Y_test)*100:2.1f}%\")"
   ]
  },
  {
   "cell_type": "markdown",
   "metadata": {},
   "source": [
    "# SVM"
   ]
  },
  {
   "cell_type": "code",
   "execution_count": 179,
   "metadata": {},
   "outputs": [
    {
     "name": "stdout",
     "output_type": "stream",
     "text": [
      "Fitting 5 folds for each of 18 candidates, totalling 90 fits\n"
     ]
    },
    {
     "name": "stderr",
     "output_type": "stream",
     "text": [
      "[Parallel(n_jobs=-1)]: Using backend LokyBackend with 4 concurrent workers.\n",
      "/home/orcan/.local/share/virtualenvs/user-activity-generator-2M2ZtGjA/lib/python3.8/site-packages/joblib/numpy_pickle.py:103: DeprecationWarning:\n",
      "\n",
      "tostring() is deprecated. Use tobytes() instead.\n",
      "\n",
      "[Parallel(n_jobs=-1)]: Done  24 tasks      | elapsed:  6.9min\n",
      "[Parallel(n_jobs=-1)]: Done  90 out of  90 | elapsed: 22.8min finished\n"
     ]
    },
    {
     "data": {
      "text/plain": [
       "GridSearchCV(estimator=SVC(), n_jobs=-1,\n",
       "             param_grid={'C': range(1, 10), 'kernel': ('linear', 'rbf')},\n",
       "             verbose=3)"
      ]
     },
     "execution_count": 179,
     "metadata": {},
     "output_type": "execute_result"
    }
   ],
   "source": [
    "from sklearn.svm import SVC\n",
    "from sklearn.model_selection import GridSearchCV\n",
    "\n",
    "svc = SVC()\n",
    "\n",
    "\n",
    "parameters = {'kernel':('linear', 'rbf'), 'C':range(1, 10)}\n",
    "best_svc = GridSearchCV(svc, parameters, n_jobs=-1, verbose=3)\n",
    "\n",
    "best_svc.fit(X_train_flat, Y_train)"
   ]
  },
  {
   "cell_type": "code",
   "execution_count": 181,
   "metadata": {},
   "outputs": [
    {
     "data": {
      "image/png": "[encoded data removed]",
      "text/plain": [
       "<Figure size 432x288 with 2 Axes>"
      ]
     },
     "metadata": {
      "needs_background": "light"
     },
     "output_type": "display_data"
    }
   ],
   "source": [
    "from matplotlib import pyplot as plt\n",
    "from sklearn.metrics import plot_confusion_matrix\n",
    "disp = plot_confusion_matrix(best_svc, X_test_flat, Y_test,\n",
    "                                 display_labels=sorted(dataset.ACTIVITIES.values()),\n",
    "                                 cmap=plt.cm.Blues,\n",
    "                            normalize=\"pred\")\n",
    "plt.show()\n",
    "# confusion(y_pred, Y_test, windows.num_classes)"
   ]
  },
  {
   "cell_type": "code",
   "execution_count": 185,
   "metadata": {
    "collapsed": true
   },
   "outputs": [
    {
     "ename": "AttributeError",
     "evalue": "predict_proba is not available when  probability=False",
     "output_type": "error",
     "traceback": [
      "\u001b[0;31m---------------------------------------------------------------------------\u001b[0m",
      "\u001b[0;31mAttributeError\u001b[0m                            Traceback (most recent call last)",
      "\u001b[0;32m<ipython-input-185-0e46cff8add3>\u001b[0m in \u001b[0;36m<module>\u001b[0;34m\u001b[0m\n\u001b[1;32m      1\u001b[0m \u001b[0my_pred\u001b[0m \u001b[0;34m=\u001b[0m \u001b[0mbest_svc\u001b[0m\u001b[0;34m.\u001b[0m\u001b[0mpredict\u001b[0m\u001b[0;34m(\u001b[0m\u001b[0mX_test_flat\u001b[0m\u001b[0;34m)\u001b[0m\u001b[0;34m\u001b[0m\u001b[0;34m\u001b[0m\u001b[0m\n\u001b[1;32m      2\u001b[0m \u001b[0mbest_svc\u001b[0m\u001b[0;34m.\u001b[0m\u001b[0mprobability\u001b[0m\u001b[0;34m=\u001b[0m\u001b[0;32mTrue\u001b[0m\u001b[0;34m\u001b[0m\u001b[0;34m\u001b[0m\u001b[0m\n\u001b[0;32m----> 3\u001b[0;31m \u001b[0my_score\u001b[0m \u001b[0;34m=\u001b[0m \u001b[0mbest_svc\u001b[0m\u001b[0;34m.\u001b[0m\u001b[0mpredict_proba\u001b[0m\u001b[0;34m(\u001b[0m\u001b[0mX_test_flat\u001b[0m\u001b[0;34m)\u001b[0m\u001b[0;34m\u001b[0m\u001b[0;34m\u001b[0m\u001b[0m\n\u001b[0m",
      "\u001b[0;32m~/.local/share/virtualenvs/user-activity-generator-2M2ZtGjA/lib/python3.8/site-packages/sklearn/utils/metaestimators.py\u001b[0m in \u001b[0;36m__get__\u001b[0;34m(self, obj, type)\u001b[0m\n\u001b[1;32m    111\u001b[0m                     \u001b[0;32mcontinue\u001b[0m\u001b[0;34m\u001b[0m\u001b[0;34m\u001b[0m\u001b[0m\n\u001b[1;32m    112\u001b[0m                 \u001b[0;32melse\u001b[0m\u001b[0;34m:\u001b[0m\u001b[0;34m\u001b[0m\u001b[0;34m\u001b[0m\u001b[0m\n\u001b[0;32m--> 113\u001b[0;31m                     \u001b[0mgetattr\u001b[0m\u001b[0;34m(\u001b[0m\u001b[0mdelegate\u001b[0m\u001b[0;34m,\u001b[0m \u001b[0mself\u001b[0m\u001b[0;34m.\u001b[0m\u001b[0mattribute_name\u001b[0m\u001b[0;34m)\u001b[0m\u001b[0;34m\u001b[0m\u001b[0;34m\u001b[0m\u001b[0m\n\u001b[0m\u001b[1;32m    114\u001b[0m                     \u001b[0;32mbreak\u001b[0m\u001b[0;34m\u001b[0m\u001b[0;34m\u001b[0m\u001b[0m\n\u001b[1;32m    115\u001b[0m             \u001b[0;32melse\u001b[0m\u001b[0;34m:\u001b[0m\u001b[0;34m\u001b[0m\u001b[0;34m\u001b[0m\u001b[0m\n",
      "\u001b[0;32m~/.local/share/virtualenvs/user-activity-generator-2M2ZtGjA/lib/python3.8/site-packages/sklearn/svm/_base.py\u001b[0m in \u001b[0;36mpredict_proba\u001b[0;34m(self)\u001b[0m\n\u001b[1;32m    655\u001b[0m         \u001b[0mdatasets\u001b[0m\u001b[0;34m.\u001b[0m\u001b[0;34m\u001b[0m\u001b[0;34m\u001b[0m\u001b[0m\n\u001b[1;32m    656\u001b[0m         \"\"\"\n\u001b[0;32m--> 657\u001b[0;31m         \u001b[0mself\u001b[0m\u001b[0;34m.\u001b[0m\u001b[0m_check_proba\u001b[0m\u001b[0;34m(\u001b[0m\u001b[0;34m)\u001b[0m\u001b[0;34m\u001b[0m\u001b[0;34m\u001b[0m\u001b[0m\n\u001b[0m\u001b[1;32m    658\u001b[0m         \u001b[0;32mreturn\u001b[0m \u001b[0mself\u001b[0m\u001b[0;34m.\u001b[0m\u001b[0m_predict_proba\u001b[0m\u001b[0;34m\u001b[0m\u001b[0;34m\u001b[0m\u001b[0m\n\u001b[1;32m    659\u001b[0m \u001b[0;34m\u001b[0m\u001b[0m\n",
      "\u001b[0;32m~/.local/share/virtualenvs/user-activity-generator-2M2ZtGjA/lib/python3.8/site-packages/sklearn/svm/_base.py\u001b[0m in \u001b[0;36m_check_proba\u001b[0;34m(self)\u001b[0m\n\u001b[1;32m    622\u001b[0m     \u001b[0;32mdef\u001b[0m \u001b[0m_check_proba\u001b[0m\u001b[0;34m(\u001b[0m\u001b[0mself\u001b[0m\u001b[0;34m)\u001b[0m\u001b[0;34m:\u001b[0m\u001b[0;34m\u001b[0m\u001b[0;34m\u001b[0m\u001b[0m\n\u001b[1;32m    623\u001b[0m         \u001b[0;32mif\u001b[0m \u001b[0;32mnot\u001b[0m \u001b[0mself\u001b[0m\u001b[0;34m.\u001b[0m\u001b[0mprobability\u001b[0m\u001b[0;34m:\u001b[0m\u001b[0;34m\u001b[0m\u001b[0;34m\u001b[0m\u001b[0m\n\u001b[0;32m--> 624\u001b[0;31m             raise AttributeError(\"predict_proba is not available when \"\n\u001b[0m\u001b[1;32m    625\u001b[0m                                  \" probability=False\")\n\u001b[1;32m    626\u001b[0m         \u001b[0;32mif\u001b[0m \u001b[0mself\u001b[0m\u001b[0;34m.\u001b[0m\u001b[0m_impl\u001b[0m \u001b[0;32mnot\u001b[0m \u001b[0;32min\u001b[0m \u001b[0;34m(\u001b[0m\u001b[0;34m'c_svc'\u001b[0m\u001b[0;34m,\u001b[0m \u001b[0;34m'nu_svc'\u001b[0m\u001b[0;34m)\u001b[0m\u001b[0;34m:\u001b[0m\u001b[0;34m\u001b[0m\u001b[0;34m\u001b[0m\u001b[0m\n",
      "\u001b[0;31mAttributeError\u001b[0m: predict_proba is not available when  probability=False"
     ]
    }
   ],
   "source": [
    "y_pred = best_svc.predict(X_test_flat)"
   ]
  },
  {
   "cell_type": "code",
   "execution_count": 186,
   "metadata": {},
   "outputs": [
    {
     "name": "stdout",
     "output_type": "stream",
     "text": [
      "Precision: 0.8787294929574688, Recall: 0.8432502667169596, Fscore: 0.8416016495810958\n"
     ]
    }
   ],
   "source": [
    "from sklearn.metrics import precision_recall_fscore_support\n",
    "\n",
    "prec, recall, fscore, sup = precision_recall_fscore_support(Y_test, y_pred, average='macro')\n",
    "print(f\"Precision: {prec:.1%}, Recall: {recall:.1%}, Fscore: {fscore:.1%}\")"
   ]
  },
  {
   "cell_type": "code",
   "execution_count": 192,
   "metadata": {},
   "outputs": [
    {
     "name": "stdout",
     "output_type": "stream",
     "text": [
      "best_svc Accuracy: 83.3%\n"
     ]
    }
   ],
   "source": [
    "print(f\"best_svc Accuracy: {best_svc.score(X_test_flat, Y_test):.1%}\")"
   ]
  },
  {
   "cell_type": "markdown",
   "metadata": {},
   "source": [
    "# Categorical Naive Bayes"
   ]
  },
  {
   "cell_type": "code",
   "execution_count": 89,
   "metadata": {},
   "outputs": [
    {
     "name": "stdout",
     "output_type": "stream",
     "text": [
      "Started cnb_0\n"
     ]
    },
    {
     "name": "stderr",
     "output_type": "stream",
     "text": [
      "/home/orcan/.local/share/virtualenvs/user-activity-generator-2M2ZtGjA/lib/python3.8/site-packages/sklearn/naive_bayes.py:511: UserWarning:\n",
      "\n",
      "alpha too small will result in numeric errors, setting alpha = 1.0e-10\n",
      "\n"
     ]
    },
    {
     "name": "stdout",
     "output_type": "stream",
     "text": [
      "Started cnb_01\n",
      "Started cnb_05\n",
      "Started cnb_1\n",
      "Done\n"
     ]
    }
   ],
   "source": [
    "from sklearn.naive_bayes import CategoricalNB\n",
    "\n",
    "cnb_0 = CategoricalNB(alpha=0.0)\n",
    "cnb_01 = CategoricalNB(alpha=0.1)\n",
    "cnb_05 = CategoricalNB(alpha=0.5)\n",
    "cnb_1 = CategoricalNB(alpha=1.)\n",
    "\n",
    "print(\"Started cnb_0\")\n",
    "cnb_0.fit(X_train_flat, Y_train)\n",
    "print(\"Started cnb_01\")\n",
    "cnb_01.fit(X_train_flat, Y_train)\n",
    "print(\"Started cnb_05\")\n",
    "cnb_05.fit(X_train_flat, Y_train)\n",
    "print(\"Started cnb_1\")\n",
    "cnb_1.fit(X_train_flat, Y_train)\n",
    "print(\"Done\")"
   ]
  },
  {
   "cell_type": "code",
   "execution_count": 90,
   "metadata": {},
   "outputs": [
    {
     "name": "stdout",
     "output_type": "stream",
     "text": [
      "cnb_0: 23.3%\n",
      "cnb_01: 23.27%\n",
      "cnb_05: 23.27%\n",
      "cnb_1: 23.27%\n"
     ]
    }
   ],
   "source": [
    "print(f\"cnb_0: {cnb_0.score(X_test_flat, Y_test)*100:2.1f}%\")\n",
    "print(f\"cnb_01: {cnb_01.score(X_test_flat, Y_test)*100:2.2f}%\")\n",
    "print(f\"cnb_05: {cnb_05.score(X_test_flat, Y_test)*100:2.2f}%\")\n",
    "print(f\"cnb_1: {cnb_1.score(X_test_flat, Y_test)*100:2.2f}%\")"
   ]
  },
  {
   "cell_type": "markdown",
   "metadata": {},
   "source": [
    "# Decision Tree"
   ]
  },
  {
   "cell_type": "code",
   "execution_count": 191,
   "metadata": {
    "collapsed": true
   },
   "outputs": [
    {
     "name": "stdout",
     "output_type": "stream",
     "text": [
      "Fitting 5 folds for each of 72 candidates, totalling 360 fits\n",
      "[Parallel(n_jobs=-1)]: Using backend LokyBackend with 4 concurrent workers.\n"
     ]
    },
    {
     "name": "stderr",
     "output_type": "stream",
     "text": [
      "/home/orcan/.local/share/virtualenvs/user-activity-generator-2M2ZtGjA/lib/python3.8/site-packages/joblib/numpy_pickle.py:103: DeprecationWarning:\n",
      "\n",
      "tostring() is deprecated. Use tobytes() instead.\n",
      "\n"
     ]
    },
    {
     "name": "stdout",
     "output_type": "stream",
     "text": [
      "[Parallel(n_jobs=-1)]: Done   1 tasks      | elapsed:    1.5s\n",
      "[Parallel(n_jobs=-1)]: Done   2 tasks      | elapsed:    1.6s\n",
      "[Parallel(n_jobs=-1)]: Done   3 tasks      | elapsed:    1.6s\n",
      "[Parallel(n_jobs=-1)]: Done   4 tasks      | elapsed:    1.7s\n",
      "[Parallel(n_jobs=-1)]: Done   5 tasks      | elapsed:    1.9s\n",
      "[Parallel(n_jobs=-1)]: Done   6 tasks      | elapsed:    4.9s\n",
      "[Parallel(n_jobs=-1)]: Done   7 tasks      | elapsed:    4.9s\n",
      "[Parallel(n_jobs=-1)]: Done   8 tasks      | elapsed:    4.9s\n",
      "[Parallel(n_jobs=-1)]: Done   9 tasks      | elapsed:    5.0s\n",
      "[Parallel(n_jobs=-1)]: Done  10 tasks      | elapsed:    5.1s\n",
      "[Parallel(n_jobs=-1)]: Done  11 tasks      | elapsed:    5.2s\n",
      "[Parallel(n_jobs=-1)]: Done  12 tasks      | elapsed:    5.3s\n",
      "[Parallel(n_jobs=-1)]: Done  13 tasks      | elapsed:    5.3s\n",
      "[Parallel(n_jobs=-1)]: Done  14 tasks      | elapsed:    5.4s\n",
      "[Parallel(n_jobs=-1)]: Done  15 tasks      | elapsed:    8.1s\n",
      "[Parallel(n_jobs=-1)]: Done  16 tasks      | elapsed:    9.2s\n",
      "[Parallel(n_jobs=-1)]: Done  17 tasks      | elapsed:    9.3s\n",
      "[Parallel(n_jobs=-1)]: Done  18 tasks      | elapsed:    9.3s\n",
      "[Parallel(n_jobs=-1)]: Done  19 tasks      | elapsed:    9.6s\n",
      "[Parallel(n_jobs=-1)]: Done  20 tasks      | elapsed:    9.6s\n",
      "[Parallel(n_jobs=-1)]: Done  21 tasks      | elapsed:    9.9s\n",
      "[Parallel(n_jobs=-1)]: Done  22 tasks      | elapsed:   10.0s\n",
      "[Parallel(n_jobs=-1)]: Done  23 tasks      | elapsed:   10.2s\n",
      "[Parallel(n_jobs=-1)]: Done  24 tasks      | elapsed:   11.9s\n",
      "[Parallel(n_jobs=-1)]: Done  25 tasks      | elapsed:   14.0s\n",
      "[Parallel(n_jobs=-1)]: Done  26 tasks      | elapsed:   14.9s\n",
      "[Parallel(n_jobs=-1)]: Done  27 tasks      | elapsed:   15.4s\n",
      "[Parallel(n_jobs=-1)]: Done  28 tasks      | elapsed:   15.7s\n",
      "[Parallel(n_jobs=-1)]: Done  29 tasks      | elapsed:   16.0s\n",
      "[Parallel(n_jobs=-1)]: Done  30 tasks      | elapsed:   16.3s\n",
      "[Parallel(n_jobs=-1)]: Done  31 tasks      | elapsed:   16.5s\n",
      "[Parallel(n_jobs=-1)]: Done  32 tasks      | elapsed:   16.9s\n",
      "[Parallel(n_jobs=-1)]: Done  33 tasks      | elapsed:   17.5s\n",
      "[Parallel(n_jobs=-1)]: Done  34 tasks      | elapsed:   19.2s\n",
      "[Parallel(n_jobs=-1)]: Done  35 tasks      | elapsed:   19.6s\n",
      "[Parallel(n_jobs=-1)]: Done  36 tasks      | elapsed:   22.7s\n",
      "[Parallel(n_jobs=-1)]: Done  37 tasks      | elapsed:   23.1s\n",
      "[Parallel(n_jobs=-1)]: Done  38 tasks      | elapsed:   23.5s\n",
      "[Parallel(n_jobs=-1)]: Done  39 tasks      | elapsed:   24.2s\n",
      "[Parallel(n_jobs=-1)]: Done  40 tasks      | elapsed:   24.6s\n",
      "[Parallel(n_jobs=-1)]: Done  41 tasks      | elapsed:   25.0s\n",
      "[Parallel(n_jobs=-1)]: Done  42 tasks      | elapsed:   25.1s\n",
      "[Parallel(n_jobs=-1)]: Done  43 tasks      | elapsed:   25.1s\n",
      "[Parallel(n_jobs=-1)]: Done  44 tasks      | elapsed:   25.3s\n",
      "[Parallel(n_jobs=-1)]: Done  45 tasks      | elapsed:   28.8s\n",
      "[Parallel(n_jobs=-1)]: Done  46 tasks      | elapsed:   31.8s\n",
      "[Parallel(n_jobs=-1)]: Done  47 tasks      | elapsed:   32.0s\n",
      "[Parallel(n_jobs=-1)]: Done  48 tasks      | elapsed:   32.4s\n",
      "[Parallel(n_jobs=-1)]: Done  49 tasks      | elapsed:   32.5s\n",
      "[Parallel(n_jobs=-1)]: Done  50 tasks      | elapsed:   32.7s\n",
      "[Parallel(n_jobs=-1)]: Done  51 tasks      | elapsed:   32.9s\n",
      "[Parallel(n_jobs=-1)]: Done  52 tasks      | elapsed:   33.1s\n",
      "[Parallel(n_jobs=-1)]: Done  53 tasks      | elapsed:   33.2s\n",
      "[Parallel(n_jobs=-1)]: Done  54 tasks      | elapsed:   34.8s\n",
      "[Parallel(n_jobs=-1)]: Done  55 tasks      | elapsed:   37.9s\n",
      "[Parallel(n_jobs=-1)]: Done  56 tasks      | elapsed:   39.8s\n",
      "[Parallel(n_jobs=-1)]: Done  57 tasks      | elapsed:   40.1s\n",
      "[Parallel(n_jobs=-1)]: Done  58 tasks      | elapsed:   40.4s\n",
      "[Parallel(n_jobs=-1)]: Done  59 tasks      | elapsed:   40.8s\n",
      "[Parallel(n_jobs=-1)]: Done  60 tasks      | elapsed:   41.2s\n",
      "[Parallel(n_jobs=-1)]: Done  61 tasks      | elapsed:   41.7s\n",
      "[Parallel(n_jobs=-1)]: Done  62 tasks      | elapsed:   41.8s\n",
      "[Parallel(n_jobs=-1)]: Done  63 tasks      | elapsed:   42.2s\n",
      "[Parallel(n_jobs=-1)]: Done  64 tasks      | elapsed:   44.9s\n",
      "[Parallel(n_jobs=-1)]: Done  65 tasks      | elapsed:   46.6s\n",
      "[Parallel(n_jobs=-1)]: Done  66 tasks      | elapsed:   49.3s\n",
      "[Parallel(n_jobs=-1)]: Done  67 tasks      | elapsed:   49.7s\n",
      "[Parallel(n_jobs=-1)]: Done  68 tasks      | elapsed:   50.2s\n",
      "[Parallel(n_jobs=-1)]: Done  69 tasks      | elapsed:   50.6s\n",
      "[Parallel(n_jobs=-1)]: Done  70 tasks      | elapsed:   51.0s\n",
      "[Parallel(n_jobs=-1)]: Done  71 tasks      | elapsed:   51.4s\n",
      "[Parallel(n_jobs=-1)]: Done  72 tasks      | elapsed:   51.8s\n",
      "[Parallel(n_jobs=-1)]: Done  73 tasks      | elapsed:   52.5s\n",
      "[Parallel(n_jobs=-1)]: Done  74 tasks      | elapsed:   54.0s\n",
      "[Parallel(n_jobs=-1)]: Done  75 tasks      | elapsed:   57.1s\n",
      "[Parallel(n_jobs=-1)]: Done  76 tasks      | elapsed:   59.6s\n",
      "[Parallel(n_jobs=-1)]: Done  77 tasks      | elapsed:  1.0min\n",
      "[Parallel(n_jobs=-1)]: Done  78 tasks      | elapsed:  1.0min\n",
      "[Parallel(n_jobs=-1)]: Done  79 tasks      | elapsed:  1.0min\n",
      "[Parallel(n_jobs=-1)]: Done  80 tasks      | elapsed:  1.0min\n",
      "[Parallel(n_jobs=-1)]: Done  81 tasks      | elapsed:  1.0min\n",
      "[Parallel(n_jobs=-1)]: Done  82 tasks      | elapsed:  1.0min\n",
      "[Parallel(n_jobs=-1)]: Done  83 tasks      | elapsed:  1.0min\n",
      "[Parallel(n_jobs=-1)]: Done  84 tasks      | elapsed:  1.1min\n",
      "[Parallel(n_jobs=-1)]: Done  85 tasks      | elapsed:  1.1min\n",
      "[Parallel(n_jobs=-1)]: Done  86 tasks      | elapsed:  1.2min\n",
      "[Parallel(n_jobs=-1)]: Done  87 tasks      | elapsed:  1.2min\n",
      "[Parallel(n_jobs=-1)]: Done  88 tasks      | elapsed:  1.2min\n",
      "[Parallel(n_jobs=-1)]: Done  89 tasks      | elapsed:  1.2min\n",
      "[Parallel(n_jobs=-1)]: Done  90 tasks      | elapsed:  1.2min\n",
      "[Parallel(n_jobs=-1)]: Done  91 tasks      | elapsed:  1.2min\n",
      "[Parallel(n_jobs=-1)]: Done  92 tasks      | elapsed:  1.2min\n",
      "[Parallel(n_jobs=-1)]: Done  93 tasks      | elapsed:  1.2min\n",
      "[Parallel(n_jobs=-1)]: Done  94 tasks      | elapsed:  1.3min\n",
      "[Parallel(n_jobs=-1)]: Done  95 tasks      | elapsed:  1.3min\n",
      "[Parallel(n_jobs=-1)]: Done  96 tasks      | elapsed:  1.4min\n",
      "[Parallel(n_jobs=-1)]: Done  97 tasks      | elapsed:  1.4min\n",
      "[Parallel(n_jobs=-1)]: Done  98 tasks      | elapsed:  1.4min\n",
      "[Parallel(n_jobs=-1)]: Done  99 tasks      | elapsed:  1.4min\n",
      "[Parallel(n_jobs=-1)]: Done 100 tasks      | elapsed:  1.4min\n",
      "[Parallel(n_jobs=-1)]: Done 101 tasks      | elapsed:  1.4min\n",
      "[Parallel(n_jobs=-1)]: Done 102 tasks      | elapsed:  1.4min\n",
      "[Parallel(n_jobs=-1)]: Done 103 tasks      | elapsed:  1.4min\n",
      "[Parallel(n_jobs=-1)]: Done 104 tasks      | elapsed:  1.5min\n",
      "[Parallel(n_jobs=-1)]: Done 105 tasks      | elapsed:  1.5min\n",
      "[Parallel(n_jobs=-1)]: Done 106 tasks      | elapsed:  1.6min\n",
      "[Parallel(n_jobs=-1)]: Done 107 tasks      | elapsed:  1.6min\n",
      "[Parallel(n_jobs=-1)]: Done 108 tasks      | elapsed:  1.6min\n",
      "[Parallel(n_jobs=-1)]: Done 109 tasks      | elapsed:  1.6min\n",
      "[Parallel(n_jobs=-1)]: Done 110 tasks      | elapsed:  1.6min\n",
      "[Parallel(n_jobs=-1)]: Done 111 tasks      | elapsed:  1.6min\n",
      "[Parallel(n_jobs=-1)]: Done 112 tasks      | elapsed:  1.6min\n",
      "[Parallel(n_jobs=-1)]: Done 113 tasks      | elapsed:  1.7min\n",
      "[Parallel(n_jobs=-1)]: Done 114 tasks      | elapsed:  1.7min\n",
      "[Parallel(n_jobs=-1)]: Done 115 tasks      | elapsed:  1.8min\n",
      "[Parallel(n_jobs=-1)]: Done 116 tasks      | elapsed:  1.8min\n",
      "[Parallel(n_jobs=-1)]: Done 117 tasks      | elapsed:  1.8min\n",
      "[Parallel(n_jobs=-1)]: Done 118 tasks      | elapsed:  1.9min\n",
      "[Parallel(n_jobs=-1)]: Done 119 tasks      | elapsed:  1.9min\n",
      "[Parallel(n_jobs=-1)]: Done 120 tasks      | elapsed:  1.9min\n",
      "[Parallel(n_jobs=-1)]: Done 121 tasks      | elapsed:  1.9min\n",
      "[Parallel(n_jobs=-1)]: Done 122 tasks      | elapsed:  1.9min\n",
      "[Parallel(n_jobs=-1)]: Done 123 tasks      | elapsed:  1.9min\n",
      "[Parallel(n_jobs=-1)]: Done 124 tasks      | elapsed:  1.9min\n",
      "[Parallel(n_jobs=-1)]: Done 125 tasks      | elapsed:  2.0min\n",
      "[Parallel(n_jobs=-1)]: Done 126 tasks      | elapsed:  2.1min\n",
      "[Parallel(n_jobs=-1)]: Done 127 tasks      | elapsed:  2.1min\n",
      "[Parallel(n_jobs=-1)]: Done 128 tasks      | elapsed:  2.1min\n",
      "[Parallel(n_jobs=-1)]: Done 129 tasks      | elapsed:  2.1min\n",
      "[Parallel(n_jobs=-1)]: Done 130 tasks      | elapsed:  2.1min\n",
      "[Parallel(n_jobs=-1)]: Done 131 tasks      | elapsed:  2.1min\n",
      "[Parallel(n_jobs=-1)]: Done 132 tasks      | elapsed:  2.1min\n",
      "[Parallel(n_jobs=-1)]: Done 133 tasks      | elapsed:  2.1min\n"
     ]
    },
    {
     "name": "stdout",
     "output_type": "stream",
     "text": [
      "[Parallel(n_jobs=-1)]: Done 134 tasks      | elapsed:  2.2min\n",
      "[Parallel(n_jobs=-1)]: Done 135 tasks      | elapsed:  2.2min\n",
      "[Parallel(n_jobs=-1)]: Done 136 tasks      | elapsed:  2.3min\n",
      "[Parallel(n_jobs=-1)]: Done 137 tasks      | elapsed:  2.3min\n",
      "[Parallel(n_jobs=-1)]: Done 138 tasks      | elapsed:  2.3min\n",
      "[Parallel(n_jobs=-1)]: Done 139 tasks      | elapsed:  2.3min\n",
      "[Parallel(n_jobs=-1)]: Done 140 tasks      | elapsed:  2.4min\n",
      "[Parallel(n_jobs=-1)]: Done 141 tasks      | elapsed:  2.4min\n",
      "[Parallel(n_jobs=-1)]: Done 142 tasks      | elapsed:  2.4min\n",
      "[Parallel(n_jobs=-1)]: Done 143 tasks      | elapsed:  2.4min\n",
      "[Parallel(n_jobs=-1)]: Done 144 tasks      | elapsed:  2.4min\n",
      "[Parallel(n_jobs=-1)]: Done 145 tasks      | elapsed:  2.5min\n",
      "[Parallel(n_jobs=-1)]: Done 146 tasks      | elapsed:  2.6min\n",
      "[Parallel(n_jobs=-1)]: Done 147 tasks      | elapsed:  2.6min\n",
      "[Parallel(n_jobs=-1)]: Done 148 tasks      | elapsed:  2.6min\n",
      "[Parallel(n_jobs=-1)]: Done 149 tasks      | elapsed:  2.6min\n",
      "[Parallel(n_jobs=-1)]: Done 150 tasks      | elapsed:  2.6min\n",
      "[Parallel(n_jobs=-1)]: Done 151 tasks      | elapsed:  2.6min\n",
      "[Parallel(n_jobs=-1)]: Done 152 tasks      | elapsed:  2.6min\n",
      "[Parallel(n_jobs=-1)]: Done 153 tasks      | elapsed:  2.6min\n",
      "[Parallel(n_jobs=-1)]: Done 154 tasks      | elapsed:  2.7min\n",
      "[Parallel(n_jobs=-1)]: Done 155 tasks      | elapsed:  2.7min\n",
      "[Parallel(n_jobs=-1)]: Done 156 tasks      | elapsed:  2.8min\n",
      "[Parallel(n_jobs=-1)]: Done 157 tasks      | elapsed:  2.8min\n",
      "[Parallel(n_jobs=-1)]: Done 158 tasks      | elapsed:  2.8min\n",
      "[Parallel(n_jobs=-1)]: Done 159 tasks      | elapsed:  2.8min\n",
      "[Parallel(n_jobs=-1)]: Done 160 tasks      | elapsed:  2.8min\n",
      "[Parallel(n_jobs=-1)]: Done 161 tasks      | elapsed:  2.8min\n",
      "[Parallel(n_jobs=-1)]: Done 162 tasks      | elapsed:  2.8min\n",
      "[Parallel(n_jobs=-1)]: Done 163 tasks      | elapsed:  2.9min\n",
      "[Parallel(n_jobs=-1)]: Done 164 tasks      | elapsed:  2.9min\n",
      "[Parallel(n_jobs=-1)]: Done 165 tasks      | elapsed:  2.9min\n",
      "[Parallel(n_jobs=-1)]: Done 166 tasks      | elapsed:  3.0min\n",
      "[Parallel(n_jobs=-1)]: Done 167 tasks      | elapsed:  3.0min\n",
      "[Parallel(n_jobs=-1)]: Done 168 tasks      | elapsed:  3.0min\n",
      "[Parallel(n_jobs=-1)]: Done 169 tasks      | elapsed:  3.0min\n",
      "[Parallel(n_jobs=-1)]: Done 170 tasks      | elapsed:  3.1min\n",
      "[Parallel(n_jobs=-1)]: Done 171 tasks      | elapsed:  3.1min\n",
      "[Parallel(n_jobs=-1)]: Done 172 tasks      | elapsed:  3.1min\n",
      "[Parallel(n_jobs=-1)]: Done 173 tasks      | elapsed:  3.1min\n",
      "[Parallel(n_jobs=-1)]: Done 174 tasks      | elapsed:  3.1min\n",
      "[Parallel(n_jobs=-1)]: Done 175 tasks      | elapsed:  3.2min\n",
      "[Parallel(n_jobs=-1)]: Done 176 tasks      | elapsed:  3.2min\n",
      "[Parallel(n_jobs=-1)]: Done 177 tasks      | elapsed:  3.3min\n",
      "[Parallel(n_jobs=-1)]: Done 178 tasks      | elapsed:  3.3min\n",
      "[Parallel(n_jobs=-1)]: Done 179 tasks      | elapsed:  3.3min\n",
      "[Parallel(n_jobs=-1)]: Done 180 tasks      | elapsed:  3.3min\n",
      "[Parallel(n_jobs=-1)]: Done 181 tasks      | elapsed:  3.3min\n",
      "[Parallel(n_jobs=-1)]: Done 182 tasks      | elapsed:  3.3min\n",
      "[Parallel(n_jobs=-1)]: Done 183 tasks      | elapsed:  3.3min\n",
      "[Parallel(n_jobs=-1)]: Done 184 tasks      | elapsed:  3.4min\n",
      "[Parallel(n_jobs=-1)]: Done 185 tasks      | elapsed:  3.4min\n",
      "[Parallel(n_jobs=-1)]: Done 186 tasks      | elapsed:  3.4min\n",
      "[Parallel(n_jobs=-1)]: Done 187 tasks      | elapsed:  3.4min\n",
      "[Parallel(n_jobs=-1)]: Done 188 tasks      | elapsed:  3.4min\n",
      "[Parallel(n_jobs=-1)]: Done 189 tasks      | elapsed:  3.5min\n",
      "[Parallel(n_jobs=-1)]: Done 190 tasks      | elapsed:  3.5min\n",
      "[Parallel(n_jobs=-1)]: Done 191 tasks      | elapsed:  3.5min\n",
      "[Parallel(n_jobs=-1)]: Done 192 tasks      | elapsed:  3.5min\n",
      "[Parallel(n_jobs=-1)]: Done 193 tasks      | elapsed:  3.5min\n",
      "[Parallel(n_jobs=-1)]: Done 194 tasks      | elapsed:  3.5min\n",
      "[Parallel(n_jobs=-1)]: Done 195 tasks      | elapsed:  3.5min\n",
      "[Parallel(n_jobs=-1)]: Done 196 tasks      | elapsed:  3.6min\n",
      "[Parallel(n_jobs=-1)]: Done 197 tasks      | elapsed:  3.6min\n",
      "[Parallel(n_jobs=-1)]: Done 198 tasks      | elapsed:  3.6min\n",
      "[Parallel(n_jobs=-1)]: Done 199 tasks      | elapsed:  3.6min\n",
      "[Parallel(n_jobs=-1)]: Done 200 tasks      | elapsed:  3.7min\n",
      "[Parallel(n_jobs=-1)]: Done 201 tasks      | elapsed:  3.7min\n",
      "[Parallel(n_jobs=-1)]: Done 202 tasks      | elapsed:  3.7min\n",
      "[Parallel(n_jobs=-1)]: Done 203 tasks      | elapsed:  3.7min\n",
      "[Parallel(n_jobs=-1)]: Done 204 tasks      | elapsed:  3.7min\n",
      "[Parallel(n_jobs=-1)]: Done 205 tasks      | elapsed:  3.8min\n",
      "[Parallel(n_jobs=-1)]: Done 206 tasks      | elapsed:  3.8min\n",
      "[Parallel(n_jobs=-1)]: Done 207 tasks      | elapsed:  3.9min\n",
      "[Parallel(n_jobs=-1)]: Done 208 tasks      | elapsed:  3.9min\n",
      "[Parallel(n_jobs=-1)]: Done 209 tasks      | elapsed:  3.9min\n",
      "[Parallel(n_jobs=-1)]: Done 210 tasks      | elapsed:  3.9min\n",
      "[Parallel(n_jobs=-1)]: Done 211 tasks      | elapsed:  3.9min\n",
      "[Parallel(n_jobs=-1)]: Done 212 tasks      | elapsed:  3.9min\n",
      "[Parallel(n_jobs=-1)]: Done 213 tasks      | elapsed:  3.9min\n",
      "[Parallel(n_jobs=-1)]: Done 214 tasks      | elapsed:  4.0min\n",
      "[Parallel(n_jobs=-1)]: Done 215 tasks      | elapsed:  4.0min\n",
      "[Parallel(n_jobs=-1)]: Done 216 tasks      | elapsed:  4.1min\n",
      "[Parallel(n_jobs=-1)]: Done 217 tasks      | elapsed:  4.1min\n",
      "[Parallel(n_jobs=-1)]: Done 218 tasks      | elapsed:  4.1min\n",
      "[Parallel(n_jobs=-1)]: Done 219 tasks      | elapsed:  4.1min\n",
      "[Parallel(n_jobs=-1)]: Done 220 tasks      | elapsed:  4.1min\n",
      "[Parallel(n_jobs=-1)]: Done 221 tasks      | elapsed:  4.1min\n",
      "[Parallel(n_jobs=-1)]: Done 222 tasks      | elapsed:  4.2min\n",
      "[Parallel(n_jobs=-1)]: Done 223 tasks      | elapsed:  4.2min\n",
      "[Parallel(n_jobs=-1)]: Done 224 tasks      | elapsed:  4.2min\n",
      "[Parallel(n_jobs=-1)]: Done 225 tasks      | elapsed:  4.3min\n",
      "[Parallel(n_jobs=-1)]: Done 226 tasks      | elapsed:  4.4min\n",
      "[Parallel(n_jobs=-1)]: Done 227 tasks      | elapsed:  4.4min\n",
      "[Parallel(n_jobs=-1)]: Done 228 tasks      | elapsed:  4.4min\n",
      "[Parallel(n_jobs=-1)]: Done 229 tasks      | elapsed:  4.4min\n",
      "[Parallel(n_jobs=-1)]: Done 230 tasks      | elapsed:  4.4min\n",
      "[Parallel(n_jobs=-1)]: Done 231 tasks      | elapsed:  4.4min\n",
      "[Parallel(n_jobs=-1)]: Done 232 tasks      | elapsed:  4.4min\n",
      "[Parallel(n_jobs=-1)]: Done 233 tasks      | elapsed:  4.4min\n",
      "[Parallel(n_jobs=-1)]: Done 234 tasks      | elapsed:  4.5min\n",
      "[Parallel(n_jobs=-1)]: Done 235 tasks      | elapsed:  4.6min\n",
      "[Parallel(n_jobs=-1)]: Done 236 tasks      | elapsed:  4.7min\n",
      "[Parallel(n_jobs=-1)]: Done 237 tasks      | elapsed:  4.7min\n",
      "[Parallel(n_jobs=-1)]: Done 238 tasks      | elapsed:  4.7min\n",
      "[Parallel(n_jobs=-1)]: Done 239 tasks      | elapsed:  4.7min\n",
      "[Parallel(n_jobs=-1)]: Done 240 tasks      | elapsed:  4.7min\n",
      "[Parallel(n_jobs=-1)]: Done 241 tasks      | elapsed:  4.7min\n",
      "[Parallel(n_jobs=-1)]: Done 242 tasks      | elapsed:  4.7min\n",
      "[Parallel(n_jobs=-1)]: Done 243 tasks      | elapsed:  4.7min\n",
      "[Parallel(n_jobs=-1)]: Done 244 tasks      | elapsed:  4.8min\n",
      "[Parallel(n_jobs=-1)]: Done 245 tasks      | elapsed:  4.9min\n",
      "[Parallel(n_jobs=-1)]: Done 246 tasks      | elapsed:  5.0min\n",
      "[Parallel(n_jobs=-1)]: Done 247 tasks      | elapsed:  5.0min\n",
      "[Parallel(n_jobs=-1)]: Done 248 tasks      | elapsed:  5.0min\n",
      "[Parallel(n_jobs=-1)]: Done 249 tasks      | elapsed:  5.0min\n",
      "[Parallel(n_jobs=-1)]: Done 250 tasks      | elapsed:  5.0min\n",
      "[Parallel(n_jobs=-1)]: Done 251 tasks      | elapsed:  5.0min\n",
      "[Parallel(n_jobs=-1)]: Done 252 tasks      | elapsed:  5.1min\n",
      "[Parallel(n_jobs=-1)]: Done 253 tasks      | elapsed:  5.1min\n",
      "[Parallel(n_jobs=-1)]: Done 254 tasks      | elapsed:  5.2min\n",
      "[Parallel(n_jobs=-1)]: Done 255 tasks      | elapsed:  5.2min\n",
      "[Parallel(n_jobs=-1)]: Done 256 tasks      | elapsed:  5.3min\n",
      "[Parallel(n_jobs=-1)]: Done 257 tasks      | elapsed:  5.3min\n",
      "[Parallel(n_jobs=-1)]: Done 258 tasks      | elapsed:  5.3min\n",
      "[Parallel(n_jobs=-1)]: Done 259 tasks      | elapsed:  5.3min\n",
      "[Parallel(n_jobs=-1)]: Done 260 tasks      | elapsed:  5.4min\n",
      "[Parallel(n_jobs=-1)]: Done 261 tasks      | elapsed:  5.4min\n",
      "[Parallel(n_jobs=-1)]: Done 262 tasks      | elapsed:  5.4min\n",
      "[Parallel(n_jobs=-1)]: Done 263 tasks      | elapsed:  5.4min\n",
      "[Parallel(n_jobs=-1)]: Done 264 tasks      | elapsed:  5.5min\n",
      "[Parallel(n_jobs=-1)]: Done 265 tasks      | elapsed:  5.5min\n",
      "[Parallel(n_jobs=-1)]: Done 266 tasks      | elapsed:  5.7min\n"
     ]
    },
    {
     "name": "stdout",
     "output_type": "stream",
     "text": [
      "[Parallel(n_jobs=-1)]: Done 267 tasks      | elapsed:  5.7min\n",
      "[Parallel(n_jobs=-1)]: Done 268 tasks      | elapsed:  5.7min\n",
      "[Parallel(n_jobs=-1)]: Done 269 tasks      | elapsed:  5.7min\n",
      "[Parallel(n_jobs=-1)]: Done 270 tasks      | elapsed:  5.7min\n",
      "[Parallel(n_jobs=-1)]: Done 271 tasks      | elapsed:  5.7min\n",
      "[Parallel(n_jobs=-1)]: Done 272 tasks      | elapsed:  5.7min\n",
      "[Parallel(n_jobs=-1)]: Done 273 tasks      | elapsed:  5.8min\n",
      "[Parallel(n_jobs=-1)]: Done 274 tasks      | elapsed:  5.8min\n",
      "[Parallel(n_jobs=-1)]: Done 275 tasks      | elapsed:  5.9min\n",
      "[Parallel(n_jobs=-1)]: Done 276 tasks      | elapsed:  6.0min\n",
      "[Parallel(n_jobs=-1)]: Done 277 tasks      | elapsed:  6.0min\n",
      "[Parallel(n_jobs=-1)]: Done 278 tasks      | elapsed:  6.1min\n",
      "[Parallel(n_jobs=-1)]: Done 279 tasks      | elapsed:  6.1min\n",
      "[Parallel(n_jobs=-1)]: Done 280 tasks      | elapsed:  6.1min\n",
      "[Parallel(n_jobs=-1)]: Done 281 tasks      | elapsed:  6.1min\n",
      "[Parallel(n_jobs=-1)]: Done 282 tasks      | elapsed:  6.1min\n",
      "[Parallel(n_jobs=-1)]: Done 283 tasks      | elapsed:  6.1min\n",
      "[Parallel(n_jobs=-1)]: Done 284 tasks      | elapsed:  6.2min\n",
      "[Parallel(n_jobs=-1)]: Done 285 tasks      | elapsed:  6.3min\n",
      "[Parallel(n_jobs=-1)]: Done 286 tasks      | elapsed:  6.4min\n",
      "[Parallel(n_jobs=-1)]: Done 287 tasks      | elapsed:  6.4min\n",
      "[Parallel(n_jobs=-1)]: Done 288 tasks      | elapsed:  6.4min\n",
      "[Parallel(n_jobs=-1)]: Done 289 tasks      | elapsed:  6.4min\n",
      "[Parallel(n_jobs=-1)]: Done 290 tasks      | elapsed:  6.5min\n",
      "[Parallel(n_jobs=-1)]: Done 291 tasks      | elapsed:  6.5min\n",
      "[Parallel(n_jobs=-1)]: Done 292 tasks      | elapsed:  6.5min\n",
      "[Parallel(n_jobs=-1)]: Done 293 tasks      | elapsed:  6.5min\n",
      "[Parallel(n_jobs=-1)]: Done 294 tasks      | elapsed:  6.6min\n",
      "[Parallel(n_jobs=-1)]: Done 295 tasks      | elapsed:  6.7min\n",
      "[Parallel(n_jobs=-1)]: Done 296 tasks      | elapsed:  6.8min\n",
      "[Parallel(n_jobs=-1)]: Done 297 tasks      | elapsed:  6.8min\n",
      "[Parallel(n_jobs=-1)]: Done 298 tasks      | elapsed:  6.8min\n",
      "[Parallel(n_jobs=-1)]: Done 299 tasks      | elapsed:  6.9min\n",
      "[Parallel(n_jobs=-1)]: Done 300 tasks      | elapsed:  6.9min\n",
      "[Parallel(n_jobs=-1)]: Done 301 tasks      | elapsed:  6.9min\n",
      "[Parallel(n_jobs=-1)]: Done 302 tasks      | elapsed:  6.9min\n",
      "[Parallel(n_jobs=-1)]: Done 303 tasks      | elapsed:  6.9min\n",
      "[Parallel(n_jobs=-1)]: Done 304 tasks      | elapsed:  7.0min\n",
      "[Parallel(n_jobs=-1)]: Done 305 tasks      | elapsed:  7.0min\n",
      "[Parallel(n_jobs=-1)]: Done 306 tasks      | elapsed:  7.2min\n",
      "[Parallel(n_jobs=-1)]: Done 307 tasks      | elapsed:  7.2min\n",
      "[Parallel(n_jobs=-1)]: Done 308 tasks      | elapsed:  7.2min\n",
      "[Parallel(n_jobs=-1)]: Done 309 tasks      | elapsed:  7.2min\n",
      "[Parallel(n_jobs=-1)]: Done 310 tasks      | elapsed:  7.2min\n",
      "[Parallel(n_jobs=-1)]: Done 311 tasks      | elapsed:  7.2min\n",
      "[Parallel(n_jobs=-1)]: Done 312 tasks      | elapsed:  7.3min\n",
      "[Parallel(n_jobs=-1)]: Done 313 tasks      | elapsed:  7.3min\n",
      "[Parallel(n_jobs=-1)]: Done 314 tasks      | elapsed:  7.3min\n",
      "[Parallel(n_jobs=-1)]: Done 315 tasks      | elapsed:  7.4min\n",
      "[Parallel(n_jobs=-1)]: Done 316 tasks      | elapsed:  7.5min\n",
      "[Parallel(n_jobs=-1)]: Done 317 tasks      | elapsed:  7.5min\n",
      "[Parallel(n_jobs=-1)]: Done 318 tasks      | elapsed:  7.5min\n",
      "[Parallel(n_jobs=-1)]: Done 319 tasks      | elapsed:  7.6min\n",
      "[Parallel(n_jobs=-1)]: Done 320 tasks      | elapsed:  7.6min\n",
      "[Parallel(n_jobs=-1)]: Done 321 tasks      | elapsed:  7.6min\n",
      "[Parallel(n_jobs=-1)]: Done 322 tasks      | elapsed:  7.6min\n",
      "[Parallel(n_jobs=-1)]: Done 323 tasks      | elapsed:  7.6min\n",
      "[Parallel(n_jobs=-1)]: Done 324 tasks      | elapsed:  7.7min\n",
      "[Parallel(n_jobs=-1)]: Done 325 tasks      | elapsed:  7.8min\n",
      "[Parallel(n_jobs=-1)]: Done 326 tasks      | elapsed:  7.9min\n",
      "[Parallel(n_jobs=-1)]: Done 327 tasks      | elapsed:  7.9min\n",
      "[Parallel(n_jobs=-1)]: Done 328 tasks      | elapsed:  7.9min\n",
      "[Parallel(n_jobs=-1)]: Done 329 tasks      | elapsed:  7.9min\n",
      "[Parallel(n_jobs=-1)]: Done 330 tasks      | elapsed:  7.9min\n",
      "[Parallel(n_jobs=-1)]: Done 331 tasks      | elapsed:  8.0min\n",
      "[Parallel(n_jobs=-1)]: Done 332 tasks      | elapsed:  8.0min\n",
      "[Parallel(n_jobs=-1)]: Done 333 tasks      | elapsed:  8.0min\n",
      "[Parallel(n_jobs=-1)]: Done 334 tasks      | elapsed:  8.1min\n",
      "[Parallel(n_jobs=-1)]: Done 335 tasks      | elapsed:  8.2min\n",
      "[Parallel(n_jobs=-1)]: Done 336 tasks      | elapsed:  8.3min\n",
      "[Parallel(n_jobs=-1)]: Done 337 tasks      | elapsed:  8.3min\n",
      "[Parallel(n_jobs=-1)]: Done 338 tasks      | elapsed:  8.3min\n",
      "[Parallel(n_jobs=-1)]: Done 339 tasks      | elapsed:  8.3min\n",
      "[Parallel(n_jobs=-1)]: Done 340 tasks      | elapsed:  8.3min\n",
      "[Parallel(n_jobs=-1)]: Done 341 tasks      | elapsed:  8.4min\n",
      "[Parallel(n_jobs=-1)]: Done 342 tasks      | elapsed:  8.4min\n",
      "[Parallel(n_jobs=-1)]: Done 343 tasks      | elapsed:  8.4min\n",
      "[Parallel(n_jobs=-1)]: Done 344 tasks      | elapsed:  8.5min\n",
      "[Parallel(n_jobs=-1)]: Done 345 tasks      | elapsed:  8.5min\n",
      "[Parallel(n_jobs=-1)]: Done 346 tasks      | elapsed:  8.7min\n",
      "[Parallel(n_jobs=-1)]: Done 347 tasks      | elapsed:  8.7min\n",
      "[Parallel(n_jobs=-1)]: Done 348 tasks      | elapsed:  8.7min\n",
      "[Parallel(n_jobs=-1)]: Done 349 tasks      | elapsed:  8.7min\n",
      "[Parallel(n_jobs=-1)]: Done 350 tasks      | elapsed:  8.7min\n",
      "[Parallel(n_jobs=-1)]: Done 351 tasks      | elapsed:  8.7min\n",
      "[Parallel(n_jobs=-1)]: Done 352 tasks      | elapsed:  8.8min\n",
      "[Parallel(n_jobs=-1)]: Done 353 tasks      | elapsed:  8.8min\n",
      "[Parallel(n_jobs=-1)]: Done 357 out of 360 | elapsed:  9.1min remaining:    4.6s\n",
      "[Parallel(n_jobs=-1)]: Done 360 out of 360 | elapsed:  9.2min finished\n"
     ]
    },
    {
     "data": {
      "text/plain": [
       "GridSearchCV(estimator=DecisionTreeClassifier(), n_jobs=-1,\n",
       "             param_grid={'criterion': ['gini', 'entropy'],\n",
       "                         'max_depth': [4, 5, 6, 7, 8, 9, 10, 11, 12, 15, 20, 30,\n",
       "                                       40, 50, 70, 90, 120, 150],\n",
       "                         'max_features': ['auto', None]},\n",
       "             verbose=100)"
      ]
     },
     "execution_count": 191,
     "metadata": {},
     "output_type": "execute_result"
    }
   ],
   "source": [
    "from sklearn.tree import DecisionTreeClassifier\n",
    "\n",
    "tree_para = {'criterion':['gini','entropy'], \"max_features\":[\"auto\", None], 'max_depth':[4,5,6,7,8,9,10,11,12,15,20,30,40,50,70,90,120,150]}\n",
    "tree = GridSearchCV(DecisionTreeClassifier(), tree_para, verbose=100, n_jobs=-1)\n",
    "tree.fit(X_train_flat, Y_train)"
   ]
  },
  {
   "cell_type": "code",
   "execution_count": 193,
   "metadata": {},
   "outputs": [
    {
     "data": {
      "image/png": "[encoded data removed]",
      "text/plain": [
       "<Figure size 432x288 with 2 Axes>"
      ]
     },
     "metadata": {
      "needs_background": "light"
     },
     "output_type": "display_data"
    }
   ],
   "source": [
    "from matplotlib import pyplot as plt\n",
    "from sklearn.metrics import plot_confusion_matrix\n",
    "disp = plot_confusion_matrix(tree, X_test_flat, Y_test,\n",
    "                                 display_labels=sorted(dataset.ACTIVITIES.values()),\n",
    "                                 cmap=plt.cm.Blues,\n",
    "                            normalize=\"pred\")\n",
    "plt.show()"
   ]
  },
  {
   "cell_type": "code",
   "execution_count": 194,
   "metadata": {},
   "outputs": [
    {
     "name": "stdout",
     "output_type": "stream",
     "text": [
      "Decision Tree Accuracy: 73.91%\n"
     ]
    }
   ],
   "source": [
    "print(f\"Decision Tree Accuracy: {tree.score(X_test_flat, Y_test):.1%}%\")"
   ]
  },
  {
   "cell_type": "code",
   "execution_count": 198,
   "metadata": {},
   "outputs": [],
   "source": [
    "y_pred = tree.predict(X_test_flat)"
   ]
  },
  {
   "cell_type": "code",
   "execution_count": 200,
   "metadata": {},
   "outputs": [],
   "source": [
    "y_score = tree.predict_proba(X_test_flat)"
   ]
  },
  {
   "cell_type": "code",
   "execution_count": 201,
   "metadata": {},
   "outputs": [
    {
     "name": "stdout",
     "output_type": "stream",
     "text": [
      "Precision: 0.6919560754272688, Recall: 0.6842800181803287, Fscore: 0.6876637835526745\n"
     ]
    }
   ],
   "source": [
    "from sklearn.metrics import precision_recall_fscore_support\n",
    "\n",
    "prec, recall, fscore, sup = precision_recall_fscore_support(Y_test, y_pred, average='macro')\n",
    "print(f\"Precision: {prec:.1%}, Recall: {recall:.1%}, Fscore: {fscore:.1%}\")"
   ]
  },
  {
   "cell_type": "code",
   "execution_count": 202,
   "metadata": {},
   "outputs": [
    {
     "name": "stdout",
     "output_type": "stream",
     "text": [
      "Roc Auc Score: 0.82\n"
     ]
    }
   ],
   "source": [
    "from sklearn.metrics import roc_auc_score\n",
    "\n",
    "auc = roc_auc_score(Y_test, y_score, multi_class=\"ovr\")\n",
    "print(f\"Roc Auc Score: {auc:.1%}\")"
   ]
  },
  {
   "cell_type": "markdown",
   "metadata": {},
   "source": [
    "# MLP"
   ]
  },
  {
   "cell_type": "code",
   "execution_count": 205,
   "metadata": {},
   "outputs": [
    {
     "name": "stderr",
     "output_type": "stream",
     "text": [
      "/home/orcan/.local/share/virtualenvs/user-activity-generator-2M2ZtGjA/lib/python3.8/site-packages/sklearn/neural_network/_multilayer_perceptron.py:582: ConvergenceWarning:\n",
      "\n",
      "Stochastic Optimizer: Maximum iterations (300) reached and the optimization hasn't converged yet.\n",
      "\n"
     ]
    },
    {
     "data": {
      "text/plain": [
       "MLPClassifier(max_iter=300, random_state=1)"
      ]
     },
     "execution_count": 205,
     "metadata": {},
     "output_type": "execute_result"
    }
   ],
   "source": [
    "from sklearn.neural_network import MLPClassifier\n",
    "\n",
    "mlp = MLPClassifier(random_state=1, max_iter=300)\n",
    "mlp.fit(X_train_flat, Y_train)"
   ]
  },
  {
   "cell_type": "code",
   "execution_count": 206,
   "metadata": {},
   "outputs": [
    {
     "data": {
      "image/png": "[encoded data removed]",
      "text/plain": [
       "<Figure size 432x288 with 2 Axes>"
      ]
     },
     "metadata": {
      "needs_background": "light"
     },
     "output_type": "display_data"
    }
   ],
   "source": [
    "from matplotlib import pyplot as plt\n",
    "from sklearn.metrics import plot_confusion_matrix\n",
    "disp = plot_confusion_matrix(mlp, X_test_flat, Y_test,\n",
    "                                 display_labels=sorted(dataset.ACTIVITIES.values()),\n",
    "                                 cmap=plt.cm.Blues,\n",
    "                            normalize=\"pred\")\n",
    "plt.show()"
   ]
  },
  {
   "cell_type": "code",
   "execution_count": 220,
   "metadata": {},
   "outputs": [
    {
     "name": "stdout",
     "output_type": "stream",
     "text": [
      "MLP accuarcy: 90.1%\n"
     ]
    }
   ],
   "source": [
    "print(f\"MLP accuarcy: {mlp.score(X_test_flat, Y_test):.1%}\")"
   ]
  },
  {
   "cell_type": "code",
   "execution_count": 212,
   "metadata": {},
   "outputs": [],
   "source": [
    "y_pred = mlp.predict(X_test_flat)"
   ]
  },
  {
   "cell_type": "code",
   "execution_count": 213,
   "metadata": {},
   "outputs": [],
   "source": [
    "y_score = mlp.predict_proba(X_test_flat)"
   ]
  },
  {
   "cell_type": "code",
   "execution_count": 217,
   "metadata": {},
   "outputs": [
    {
     "name": "stdout",
     "output_type": "stream",
     "text": [
      "Precision: 89.5%, Recall: 88.0%, Fscore: 89%\n"
     ]
    }
   ],
   "source": [
    "from sklearn.metrics import precision_recall_fscore_support\n",
    "\n",
    "prec, recall, fscore, sup = precision_recall_fscore_support(Y_test, y_pred, average='macro')\n",
    "print(f\"Precision: {prec:.1%}, Recall: {recall:.1%}, Fscore: {fscore:.1%}\")"
   ]
  },
  {
   "cell_type": "code",
   "execution_count": 219,
   "metadata": {},
   "outputs": [
    {
     "name": "stdout",
     "output_type": "stream",
     "text": [
      "Roc Auc Score: 98.0%\n"
     ]
    }
   ],
   "source": [
    "from sklearn.metrics import roc_auc_score\n",
    "\n",
    "auc = roc_auc_score(Y_test, y_score, multi_class=\"ovr\")\n",
    "print(f\"Roc Auc Score: {auc:.1%}\")"
   ]
  },
  {
   "cell_type": "markdown",
   "metadata": {},
   "source": [
    "# LSTM"
   ]
  },
  {
   "cell_type": "markdown",
   "metadata": {},
   "source": [
    "## LSTM 1"
   ]
  },
  {
   "cell_type": "code",
   "execution_count": 271,
   "metadata": {
    "collapsed": true
   },
   "outputs": [
    {
     "name": "stdout",
     "output_type": "stream",
     "text": [
      "Epoch 1/30\n",
      " - 18s - loss: 1.6544 - categorical_accuracy: 0.2876\n",
      "Epoch 2/30\n",
      " - 20s - loss: 1.1337 - categorical_accuracy: 0.4817\n",
      "Epoch 3/30\n",
      " - 21s - loss: 1.0023 - categorical_accuracy: 0.5164\n",
      "Epoch 4/30\n",
      " - 20s - loss: 0.8887 - categorical_accuracy: 0.5645\n",
      "Epoch 5/30\n",
      " - 22s - loss: 0.8079 - categorical_accuracy: 0.5906\n",
      "Epoch 6/30\n",
      " - 19s - loss: 0.7431 - categorical_accuracy: 0.6103\n",
      "Epoch 7/30\n",
      " - 20s - loss: 0.7511 - categorical_accuracy: 0.6073\n",
      "Epoch 8/30\n",
      " - 19s - loss: 0.7026 - categorical_accuracy: 0.6284\n",
      "Epoch 9/30\n",
      " - 18s - loss: 0.6587 - categorical_accuracy: 0.6501\n",
      "Epoch 10/30\n",
      " - 19s - loss: 0.6181 - categorical_accuracy: 0.6894\n",
      "Epoch 11/30\n",
      " - 19s - loss: 0.5611 - categorical_accuracy: 0.7205\n",
      "Epoch 12/30\n",
      " - 20s - loss: 0.5234 - categorical_accuracy: 0.7358\n",
      "Epoch 13/30\n",
      " - 21s - loss: 0.4995 - categorical_accuracy: 0.7417\n",
      "Epoch 14/30\n",
      " - 19s - loss: 0.4731 - categorical_accuracy: 0.7615\n",
      "Epoch 15/30\n",
      " - 18s - loss: 0.4500 - categorical_accuracy: 0.7821\n",
      "Epoch 16/30\n",
      " - 18s - loss: 0.4485 - categorical_accuracy: 0.7796\n",
      "Epoch 17/30\n",
      " - 18s - loss: 0.4330 - categorical_accuracy: 0.7921\n",
      "Epoch 18/30\n",
      " - 18s - loss: 0.4639 - categorical_accuracy: 0.7657\n",
      "Epoch 19/30\n",
      " - 18s - loss: 0.4349 - categorical_accuracy: 0.7888\n",
      "Epoch 20/30\n",
      " - 18s - loss: 0.4186 - categorical_accuracy: 0.7990\n",
      "Epoch 21/30\n",
      " - 18s - loss: 0.4157 - categorical_accuracy: 0.7981\n",
      "Epoch 22/30\n",
      " - 18s - loss: 0.3842 - categorical_accuracy: 0.8239\n",
      "Epoch 23/30\n",
      " - 18s - loss: 0.3809 - categorical_accuracy: 0.8342\n",
      "Epoch 24/30\n",
      " - 18s - loss: 0.3924 - categorical_accuracy: 0.8339\n",
      "Epoch 25/30\n",
      " - 18s - loss: 0.3785 - categorical_accuracy: 0.8402\n",
      "Epoch 26/30\n",
      " - 18s - loss: 0.3659 - categorical_accuracy: 0.8484\n",
      "Epoch 27/30\n",
      " - 18s - loss: 0.3760 - categorical_accuracy: 0.8363\n",
      "Epoch 28/30\n",
      " - 18s - loss: 0.3504 - categorical_accuracy: 0.8516\n",
      "Epoch 29/30\n",
      " - 18s - loss: 0.3373 - categorical_accuracy: 0.8615\n",
      "Epoch 30/30\n",
      " - 18s - loss: 0.3318 - categorical_accuracy: 0.8684\n"
     ]
    },
    {
     "data": {
      "text/plain": [
       "<keras.callbacks.callbacks.History at 0x7f061be052e0>"
      ]
     },
     "execution_count": 271,
     "metadata": {},
     "output_type": "execute_result"
    }
   ],
   "source": [
    "from keras.models import Sequential\n",
    "from keras.layers import Dense, Dropout, LSTM, Softmax\n",
    "\n",
    "lstm_1 = Sequential()\n",
    "lstm_1.add(LSTM(units=100, input_shape=(X_train.shape[1:])))\n",
    "lstm_1.add(Dropout(0.2))\n",
    "lstm_1.add(Dense(100, activation=\"relu\"))\n",
    "lstm_1.add(Dropout(0.2))\n",
    "lstm_1.add(Dense(windows.num_classes, activation=\"softmax\"))\n",
    "lstm_1.compile(\n",
    "    loss='categorical_crossentropy', \n",
    "    optimizer='adam', \n",
    "    metrics=[\"categorical_accuracy\"]\n",
    ")\n",
    "lstm_1.fit(X_train, Y_train_onehot, epochs=30, batch_size=32, verbose=2)"
   ]
  },
  {
   "cell_type": "code",
   "execution_count": 322,
   "metadata": {},
   "outputs": [
    {
     "name": "stdout",
     "output_type": "stream",
     "text": [
      "4078/4078 [==============================] - 2s 552us/step\n"
     ]
    },
    {
     "data": {
      "text/plain": [
       "'LSTM_1 Accuracy: 81.0%'"
      ]
     },
     "execution_count": 322,
     "metadata": {},
     "output_type": "execute_result"
    }
   ],
   "source": [
    "f\"LSTM_1 Accuracy: {lstm_1.evaluate(X_test, Y_test_onehot)[1]:.1%}\""
   ]
  },
  {
   "cell_type": "markdown",
   "metadata": {},
   "source": [
    "## LSTM 2 (Success)"
   ]
  },
  {
   "cell_type": "code",
   "execution_count": 280,
   "metadata": {
    "collapsed": true
   },
   "outputs": [
    {
     "name": "stdout",
     "output_type": "stream",
     "text": [
      "Epoch 1/30\n",
      " - 25s - loss: 1.4792 - categorical_accuracy: 0.3699\n",
      "Epoch 2/30\n",
      " - 40s - loss: 1.0102 - categorical_accuracy: 0.5083\n",
      "Epoch 3/30\n",
      " - 28s - loss: 0.8280 - categorical_accuracy: 0.6018\n",
      "Epoch 4/30\n",
      " - 23s - loss: 0.7913 - categorical_accuracy: 0.6147\n",
      "Epoch 5/30\n",
      " - 24s - loss: 0.7565 - categorical_accuracy: 0.6335\n",
      "Epoch 6/30\n",
      " - 26s - loss: 0.6807 - categorical_accuracy: 0.6645\n",
      "Epoch 7/30\n",
      " - 24s - loss: 0.6665 - categorical_accuracy: 0.6721\n",
      "Epoch 8/30\n",
      " - 24s - loss: 0.6025 - categorical_accuracy: 0.7084\n",
      "Epoch 9/30\n",
      " - 24s - loss: 0.5664 - categorical_accuracy: 0.7313\n",
      "Epoch 10/30\n",
      " - 25s - loss: 0.5380 - categorical_accuracy: 0.7571\n",
      "Epoch 11/30\n",
      " - 24s - loss: 0.5032 - categorical_accuracy: 0.7797\n",
      "Epoch 12/30\n",
      " - 25s - loss: 0.4602 - categorical_accuracy: 0.8074\n",
      "Epoch 13/30\n",
      " - 26s - loss: 0.4304 - categorical_accuracy: 0.8286\n",
      "Epoch 14/30\n",
      " - 23s - loss: 0.3975 - categorical_accuracy: 0.8491\n",
      "Epoch 15/30\n",
      " - 23s - loss: 0.3871 - categorical_accuracy: 0.8562\n",
      "Epoch 16/30\n",
      " - 23s - loss: 0.3675 - categorical_accuracy: 0.8658\n",
      "Epoch 17/30\n",
      " - 23s - loss: 0.3369 - categorical_accuracy: 0.8770\n",
      "Epoch 18/30\n",
      " - 23s - loss: 0.3332 - categorical_accuracy: 0.8790\n",
      "Epoch 19/30\n",
      " - 23s - loss: 0.3072 - categorical_accuracy: 0.8908\n",
      "Epoch 20/30\n",
      " - 22s - loss: 0.2921 - categorical_accuracy: 0.8922\n",
      "Epoch 21/30\n",
      " - 22s - loss: 0.2807 - categorical_accuracy: 0.8996\n",
      "Epoch 22/30\n",
      " - 22s - loss: 0.2760 - categorical_accuracy: 0.9021\n",
      "Epoch 23/30\n",
      " - 22s - loss: 0.2721 - categorical_accuracy: 0.9010\n",
      "Epoch 24/30\n",
      " - 22s - loss: 0.2638 - categorical_accuracy: 0.9077\n",
      "Epoch 25/30\n",
      " - 22s - loss: 0.2538 - categorical_accuracy: 0.9113\n",
      "Epoch 26/30\n",
      " - 22s - loss: 0.2428 - categorical_accuracy: 0.9143\n",
      "Epoch 27/30\n",
      " - 22s - loss: 0.2437 - categorical_accuracy: 0.9124\n",
      "Epoch 28/30\n",
      " - 24s - loss: 0.2367 - categorical_accuracy: 0.9157\n",
      "Epoch 29/30\n",
      " - 24s - loss: 0.2352 - categorical_accuracy: 0.9177\n",
      "Epoch 30/30\n",
      " - 24s - loss: 0.2405 - categorical_accuracy: 0.9140\n"
     ]
    },
    {
     "data": {
      "text/plain": [
       "<keras.callbacks.callbacks.History at 0x7f061b17bfa0>"
      ]
     },
     "execution_count": 280,
     "metadata": {},
     "output_type": "execute_result"
    }
   ],
   "source": [
    "from keras.models import Sequential\n",
    "from keras.layers import Dense, Dropout, LSTM, Softmax\n",
    "\n",
    "lstm_2 = Sequential()\n",
    "lstm_2.add(LSTM(units=50, return_sequences=True, input_shape=(X_train.shape[1:])))\n",
    "lstm_2.add(Dropout(0.1))\n",
    "lstm_2.add(LSTM(units=50))\n",
    "lstm_2.add(Dropout(0.1))\n",
    "lstm_2.add(Dense(100, activation=\"relu\"))\n",
    "lstm_2.add(Dropout(0.2))\n",
    "lstm_2.add(Dense(windows.num_classes, activation=\"softmax\"))\n",
    "lstm_2.compile(\n",
    "    loss='categorical_crossentropy', \n",
    "    optimizer='rmsprop', \n",
    "    metrics=[\"categorical_accuracy\"]\n",
    ")\n",
    "lstm_2.fit(X_train, Y_train_onehot, epochs=30, batch_size=32, verbose=2)"
   ]
  },
  {
   "cell_type": "code",
   "execution_count": 323,
   "metadata": {},
   "outputs": [
    {
     "name": "stdout",
     "output_type": "stream",
     "text": [
      "4078/4078 [==============================] - 3s 692us/step\n"
     ]
    },
    {
     "data": {
      "text/plain": [
       "'LSTM_2 Accuracy: 91.3%'"
      ]
     },
     "execution_count": 323,
     "metadata": {},
     "output_type": "execute_result"
    }
   ],
   "source": [
    "f\"LSTM_2 Accuracy: {lstm_2.evaluate(X_test, Y_test_onehot)[1]:.1%}\""
   ]
  },
  {
   "cell_type": "code",
   "execution_count": 363,
   "metadata": {},
   "outputs": [],
   "source": [
    "y_pred_onehot = lstm_2.predict(X_test)\n",
    "y_pred = y_pred_onehot.argmax(axis=1)"
   ]
  },
  {
   "cell_type": "code",
   "execution_count": 364,
   "metadata": {},
   "outputs": [
    {
     "data": {
      "image/png": "[encoded data removed]",
      "text/plain": [
       "<Figure size 648x432 with 2 Axes>"
      ]
     },
     "metadata": {},
     "output_type": "display_data"
    }
   ],
   "source": [
    "confusion(y_pred, Y_test, sorted(dataset.ACTIVITIES.values()), \"LSTM\")"
   ]
  },
  {
   "cell_type": "code",
   "execution_count": 318,
   "metadata": {},
   "outputs": [
    {
     "name": "stdout",
     "output_type": "stream",
     "text": [
      "Precision: 92.3%, Recall: 91.8%, Fscore: 92.0%\n"
     ]
    }
   ],
   "source": [
    "from sklearn.metrics import precision_recall_fscore_support\n",
    "\n",
    "prec, recall, fscore, sup = precision_recall_fscore_support(Y_test, y_pred, average='macro')\n",
    "print(f\"Precision: {prec:.1%}, Recall: {recall:.1%}, Fscore: {fscore:.1%}\")"
   ]
  },
  {
   "cell_type": "code",
   "execution_count": 319,
   "metadata": {},
   "outputs": [
    {
     "name": "stdout",
     "output_type": "stream",
     "text": [
      "Roc Auc Score: 99.1%\n"
     ]
    }
   ],
   "source": [
    "from sklearn.metrics import roc_auc_score\n",
    "\n",
    "auc = roc_auc_score(Y_test_onehot, y_pred_onehot, multi_class=\"ovr\")\n",
    "print(f\"Roc Auc Score: {auc:.1%}\")"
   ]
  },
  {
   "cell_type": "markdown",
   "metadata": {},
   "source": [
    "## LSTM 3"
   ]
  },
  {
   "cell_type": "code",
   "execution_count": 283,
   "metadata": {
    "collapsed": true
   },
   "outputs": [
    {
     "name": "stdout",
     "output_type": "stream",
     "text": [
      "Epoch 1/40\n",
      " - 29s - loss: 1.6948 - categorical_accuracy: 0.2684\n",
      "Epoch 2/40\n",
      " - 26s - loss: 1.6635 - categorical_accuracy: 0.2752\n",
      "Epoch 3/40\n",
      " - 27s - loss: 1.6363 - categorical_accuracy: 0.3037\n",
      "Epoch 4/40\n",
      " - 26s - loss: 1.5631 - categorical_accuracy: 0.3278\n",
      "Epoch 5/40\n",
      " - 28s - loss: 1.4481 - categorical_accuracy: 0.3439\n",
      "Epoch 6/40\n",
      " - 27s - loss: 1.4919 - categorical_accuracy: 0.3286\n",
      "Epoch 7/40\n",
      " - 26s - loss: 1.1284 - categorical_accuracy: 0.4675\n",
      "Epoch 8/40\n",
      " - 26s - loss: 1.1299 - categorical_accuracy: 0.4541\n",
      "Epoch 9/40\n",
      " - 26s - loss: 1.0120 - categorical_accuracy: 0.4983\n",
      "Epoch 10/40\n",
      " - 26s - loss: 0.8866 - categorical_accuracy: 0.5761\n",
      "Epoch 11/40\n",
      " - 26s - loss: 0.7853 - categorical_accuracy: 0.6283\n",
      "Epoch 12/40\n",
      " - 26s - loss: 0.6993 - categorical_accuracy: 0.6661\n",
      "Epoch 13/40\n",
      " - 27s - loss: 0.5774 - categorical_accuracy: 0.7163\n",
      "Epoch 14/40\n",
      " - 26s - loss: 0.5325 - categorical_accuracy: 0.7487\n",
      "Epoch 15/40\n",
      " - 26s - loss: 0.4839 - categorical_accuracy: 0.7742\n",
      "Epoch 16/40\n",
      " - 27s - loss: 0.4585 - categorical_accuracy: 0.7955\n",
      "Epoch 17/40\n",
      " - 26s - loss: 0.4229 - categorical_accuracy: 0.8254\n",
      "Epoch 18/40\n",
      " - 27s - loss: 0.4035 - categorical_accuracy: 0.8365\n",
      "Epoch 19/40\n",
      " - 27s - loss: 0.3671 - categorical_accuracy: 0.8580\n",
      "Epoch 20/40\n",
      " - 27s - loss: 0.3528 - categorical_accuracy: 0.8667\n",
      "Epoch 21/40\n",
      " - 27s - loss: 0.3334 - categorical_accuracy: 0.8734\n",
      "Epoch 22/40\n",
      " - 27s - loss: 0.3169 - categorical_accuracy: 0.8825\n",
      "Epoch 23/40\n",
      " - 27s - loss: 0.3083 - categorical_accuracy: 0.8870\n",
      "Epoch 24/40\n",
      " - 27s - loss: 0.2898 - categorical_accuracy: 0.8957\n",
      "Epoch 25/40\n",
      " - 27s - loss: 0.2828 - categorical_accuracy: 0.8987\n",
      "Epoch 26/40\n",
      " - 27s - loss: 0.2724 - categorical_accuracy: 0.9029\n",
      "Epoch 27/40\n",
      " - 26s - loss: 0.2659 - categorical_accuracy: 0.9049\n",
      "Epoch 28/40\n",
      " - 26s - loss: 0.2696 - categorical_accuracy: 0.9025\n",
      "Epoch 29/40\n",
      " - 27s - loss: 0.2535 - categorical_accuracy: 0.9070\n",
      "Epoch 30/40\n",
      " - 26s - loss: 0.2507 - categorical_accuracy: 0.9100\n",
      "Epoch 31/40\n",
      " - 26s - loss: 0.2407 - categorical_accuracy: 0.9159\n",
      "Epoch 32/40\n",
      " - 27s - loss: 0.2355 - categorical_accuracy: 0.9143\n",
      "Epoch 33/40\n",
      " - 27s - loss: 0.2380 - categorical_accuracy: 0.9144\n",
      "Epoch 34/40\n",
      " - 27s - loss: 0.2271 - categorical_accuracy: 0.9196\n",
      "Epoch 35/40\n",
      " - 28s - loss: 0.2271 - categorical_accuracy: 0.9213\n",
      "Epoch 36/40\n",
      " - 30s - loss: 0.2204 - categorical_accuracy: 0.9203\n",
      "Epoch 37/40\n",
      " - 28s - loss: 0.2221 - categorical_accuracy: 0.9230\n",
      "Epoch 38/40\n",
      " - 27s - loss: 0.2162 - categorical_accuracy: 0.9247\n",
      "Epoch 39/40\n",
      " - 26s - loss: 0.2111 - categorical_accuracy: 0.9237\n",
      "Epoch 40/40\n",
      " - 26s - loss: 0.2144 - categorical_accuracy: 0.9258\n"
     ]
    },
    {
     "data": {
      "text/plain": [
       "<keras.callbacks.callbacks.History at 0x7f061ac9c5b0>"
      ]
     },
     "execution_count": 283,
     "metadata": {},
     "output_type": "execute_result"
    }
   ],
   "source": [
    "from keras.models import Sequential\n",
    "from keras.layers import Dense, Dropout, LSTM, Softmax\n",
    "\n",
    "lstm_3 = Sequential()\n",
    "lstm_3.add(LSTM(units=70, return_sequences=True, input_shape=(X_train.shape[1:])))\n",
    "lstm_3.add(Dropout(0.2))\n",
    "lstm_3.add(LSTM(units=70))\n",
    "lstm_3.add(Dropout(0.2))\n",
    "lstm_3.add(Dense(100, activation=\"relu\"))\n",
    "lstm_3.add(Dropout(0.2))\n",
    "lstm_3.add(Dense(windows.num_classes, activation=\"softmax\"))\n",
    "lstm_3.compile(\n",
    "    loss='categorical_crossentropy', \n",
    "    optimizer='rmsprop', \n",
    "    metrics=[\"categorical_accuracy\"]\n",
    ")\n",
    "lstm_3.fit(X_train, Y_train_onehot, epochs=40, batch_size=32, verbose=2)"
   ]
  },
  {
   "cell_type": "code",
   "execution_count": 324,
   "metadata": {
    "scrolled": true
   },
   "outputs": [
    {
     "name": "stdout",
     "output_type": "stream",
     "text": [
      "4078/4078 [==============================] - 3s 724us/step\n"
     ]
    },
    {
     "data": {
      "text/plain": [
       "'LSTM_3 Accuracy: 82.6%'"
      ]
     },
     "execution_count": 324,
     "metadata": {},
     "output_type": "execute_result"
    }
   ],
   "source": [
    "f\"LSTM_3 Accuracy: {lstm_3.evaluate(X_test, Y_test_onehot)[1]:.1%}\""
   ]
  },
  {
   "cell_type": "markdown",
   "metadata": {},
   "source": [
    "# 1D CNN"
   ]
  },
  {
   "cell_type": "markdown",
   "metadata": {},
   "source": [
    "## CNN 1"
   ]
  },
  {
   "cell_type": "code",
   "execution_count": 331,
   "metadata": {
    "collapsed": true
   },
   "outputs": [
    {
     "name": "stdout",
     "output_type": "stream",
     "text": [
      "Epoch 1/30\n",
      "9514/9514 [==============================] - 5s 563us/step - loss: 0.9185 - categorical_accuracy: 0.5864\n",
      "Epoch 2/30\n",
      "9514/9514 [==============================] - 3s 266us/step - loss: 0.5613 - categorical_accuracy: 0.7583\n",
      "Epoch 3/30\n",
      "9514/9514 [==============================] - 2s 248us/step - loss: 0.4853 - categorical_accuracy: 0.8034\n",
      "Epoch 4/30\n",
      "9514/9514 [==============================] - 2s 232us/step - loss: 0.4435 - categorical_accuracy: 0.8223\n",
      "Epoch 5/30\n",
      "9514/9514 [==============================] - 3s 280us/step - loss: 0.4139 - categorical_accuracy: 0.8387\n",
      "Epoch 6/30\n",
      "9514/9514 [==============================] - 3s 301us/step - loss: 0.3872 - categorical_accuracy: 0.8476\n",
      "Epoch 7/30\n",
      "9514/9514 [==============================] - 3s 266us/step - loss: 0.3602 - categorical_accuracy: 0.8630\n",
      "Epoch 8/30\n",
      "9514/9514 [==============================] - 4s 393us/step - loss: 0.3282 - categorical_accuracy: 0.8772\n",
      "Epoch 9/30\n",
      "9514/9514 [==============================] - 3s 366us/step - loss: 0.3186 - categorical_accuracy: 0.8805\n",
      "Epoch 10/30\n",
      "9514/9514 [==============================] - 2s 255us/step - loss: 0.2955 - categorical_accuracy: 0.8922\n",
      "Epoch 11/30\n",
      "9514/9514 [==============================] - 3s 292us/step - loss: 0.2747 - categorical_accuracy: 0.8988\n",
      "Epoch 12/30\n",
      "9514/9514 [==============================] - 3s 282us/step - loss: 0.2637 - categorical_accuracy: 0.9025\n",
      "Epoch 13/30\n",
      "9514/9514 [==============================] - 2s 258us/step - loss: 0.2475 - categorical_accuracy: 0.9108\n",
      "Epoch 14/30\n",
      "9514/9514 [==============================] - 3s 285us/step - loss: 0.2298 - categorical_accuracy: 0.9143\n",
      "Epoch 15/30\n",
      "9514/9514 [==============================] - 3s 273us/step - loss: 0.2137 - categorical_accuracy: 0.9244\n",
      "Epoch 16/30\n",
      "9514/9514 [==============================] - 3s 282us/step - loss: 0.2071 - categorical_accuracy: 0.9252\n",
      "Epoch 17/30\n",
      "9514/9514 [==============================] - 3s 263us/step - loss: 0.1878 - categorical_accuracy: 0.9313\n",
      "Epoch 18/30\n",
      "9514/9514 [==============================] - 3s 270us/step - loss: 0.1857 - categorical_accuracy: 0.9339\n",
      "Epoch 19/30\n",
      "9514/9514 [==============================] - 3s 329us/step - loss: 0.1860 - categorical_accuracy: 0.9315\n",
      "Epoch 20/30\n",
      "9514/9514 [==============================] - 3s 274us/step - loss: 0.1681 - categorical_accuracy: 0.9370\n",
      "Epoch 21/30\n",
      "9514/9514 [==============================] - 3s 263us/step - loss: 0.1499 - categorical_accuracy: 0.9438\n",
      "Epoch 22/30\n",
      "9514/9514 [==============================] - 3s 285us/step - loss: 0.1473 - categorical_accuracy: 0.9458\n",
      "Epoch 23/30\n",
      "9514/9514 [==============================] - 3s 306us/step - loss: 0.1408 - categorical_accuracy: 0.9471\n",
      "Epoch 24/30\n",
      "9514/9514 [==============================] - 3s 271us/step - loss: 0.1314 - categorical_accuracy: 0.9484\n",
      "Epoch 25/30\n",
      "9514/9514 [==============================] - 4s 404us/step - loss: 0.1324 - categorical_accuracy: 0.9505\n",
      "Epoch 26/30\n",
      "9514/9514 [==============================] - 4s 398us/step - loss: 0.1245 - categorical_accuracy: 0.9529\n",
      "Epoch 27/30\n",
      "9514/9514 [==============================] - 3s 312us/step - loss: 0.1243 - categorical_accuracy: 0.9527\n",
      "Epoch 28/30\n",
      "9514/9514 [==============================] - 3s 351us/step - loss: 0.1198 - categorical_accuracy: 0.9550\n",
      "Epoch 29/30\n",
      "9514/9514 [==============================] - 4s 410us/step - loss: 0.1184 - categorical_accuracy: 0.9556\n",
      "Epoch 30/30\n",
      "9514/9514 [==============================] - 4s 402us/step - loss: 0.1154 - categorical_accuracy: 0.9570\n"
     ]
    },
    {
     "data": {
      "text/plain": [
       "<keras.callbacks.callbacks.History at 0x7f06194b49d0>"
      ]
     },
     "execution_count": 331,
     "metadata": {},
     "output_type": "execute_result"
    }
   ],
   "source": [
    "from keras.models import Sequential\n",
    "from keras.layers import Dense, Dropout, LSTM, Softmax, Conv1D, MaxPooling1D, Flatten\n",
    "\n",
    "cnn_1 = Sequential()\n",
    "cnn_1.add(Conv1D(filters=32, kernel_size=3, activation='relu', input_shape=(X_train.shape[1:])))\n",
    "cnn_1.add(MaxPooling1D(pool_size=2))\n",
    "cnn_1.add(Flatten())\n",
    "cnn_1.add(Dropout(0.2))\n",
    "cnn_1.add(Dense(100, activation=\"relu\"))\n",
    "cnn_1.add(Dropout(0.2))\n",
    "cnn_1.add(Dense(windows.num_classes, activation=\"softmax\"))\n",
    "cnn_1.compile(\n",
    "    loss='categorical_crossentropy', \n",
    "    optimizer='adam', \n",
    "    metrics=[\"categorical_accuracy\"]\n",
    ")\n",
    "cnn_1.fit(X_train, Y_train_onehot, epochs=30, batch_size=32, verbose=1)"
   ]
  },
  {
   "cell_type": "code",
   "execution_count": 394,
   "metadata": {},
   "outputs": [
    {
     "name": "stdout",
     "output_type": "stream",
     "text": [
      "4078/4078 [==============================] - 0s 62us/step\n",
      "CNN_1 Accuracy: 93.9%\n",
      "Precision: 93.9%, Recall: 93.1%, Fscore: 93.4%\n",
      "Roc Auc Score: 99.3%\n"
     ]
    }
   ],
   "source": [
    "print(f\"CNN_1 Accuracy: {cnn_1.evaluate(X_test, Y_test_onehot)[1]:.1%}\")\n",
    "\n",
    "y_pred_onehot = cnn_1.predict(X_test)\n",
    "y_pred = y_pred_onehot.argmax(axis=1)\n",
    "\n",
    "from sklearn.metrics import precision_recall_fscore_support\n",
    "\n",
    "prec, recall, fscore, sup = precision_recall_fscore_support(Y_test, y_pred, average='macro')\n",
    "print(f\"Precision: {prec:.1%}, Recall: {recall:.1%}, Fscore: {fscore:.1%}\")\n",
    "\n",
    "from sklearn.metrics import roc_auc_score\n",
    "\n",
    "auc = roc_auc_score(Y_test_onehot, y_pred_onehot, multi_class=\"ovr\")\n",
    "print(f\"Roc Auc Score: {auc:.1%}\")"
   ]
  },
  {
   "cell_type": "markdown",
   "metadata": {},
   "source": [
    "## CNN 2"
   ]
  },
  {
   "cell_type": "code",
   "execution_count": 339,
   "metadata": {
    "collapsed": true
   },
   "outputs": [
    {
     "name": "stdout",
     "output_type": "stream",
     "text": [
      "Epoch 1/30\n",
      "9514/9514 [==============================] - 3s 367us/step - loss: 0.9410 - categorical_accuracy: 0.5920\n",
      "Epoch 2/30\n",
      "9514/9514 [==============================] - 3s 309us/step - loss: 0.5531 - categorical_accuracy: 0.7609\n",
      "Epoch 3/30\n",
      "9514/9514 [==============================] - 3s 271us/step - loss: 0.4794 - categorical_accuracy: 0.8092\n",
      "Epoch 4/30\n",
      "9514/9514 [==============================] - 3s 296us/step - loss: 0.4315 - categorical_accuracy: 0.8305\n",
      "Epoch 5/30\n",
      "9514/9514 [==============================] - 2s 231us/step - loss: 0.3932 - categorical_accuracy: 0.8459\n",
      "Epoch 6/30\n",
      "9514/9514 [==============================] - 3s 266us/step - loss: 0.3679 - categorical_accuracy: 0.8621\n",
      "Epoch 7/30\n",
      "9514/9514 [==============================] - 2s 254us/step - loss: 0.3415 - categorical_accuracy: 0.8690\n",
      "Epoch 8/30\n",
      "9514/9514 [==============================] - 2s 255us/step - loss: 0.3185 - categorical_accuracy: 0.8820\n",
      "Epoch 9/30\n",
      "9514/9514 [==============================] - 3s 304us/step - loss: 0.3025 - categorical_accuracy: 0.8836\n",
      "Epoch 10/30\n",
      "9514/9514 [==============================] - 3s 263us/step - loss: 0.2878 - categorical_accuracy: 0.8890\n",
      "Epoch 11/30\n",
      "9514/9514 [==============================] - 3s 314us/step - loss: 0.2673 - categorical_accuracy: 0.8987\n",
      "Epoch 12/30\n",
      "9514/9514 [==============================] - 3s 338us/step - loss: 0.2502 - categorical_accuracy: 0.9066\n",
      "Epoch 13/30\n",
      "9514/9514 [==============================] - 2s 260us/step - loss: 0.2408 - categorical_accuracy: 0.9109\n",
      "Epoch 14/30\n",
      "9514/9514 [==============================] - 2s 246us/step - loss: 0.2290 - categorical_accuracy: 0.9143\n",
      "Epoch 15/30\n",
      "9514/9514 [==============================] - 2s 239us/step - loss: 0.2209 - categorical_accuracy: 0.9194\n",
      "Epoch 16/30\n",
      "9514/9514 [==============================] - 3s 291us/step - loss: 0.2084 - categorical_accuracy: 0.9213\n",
      "Epoch 17/30\n",
      "9514/9514 [==============================] - 3s 312us/step - loss: 0.1995 - categorical_accuracy: 0.9260\n",
      "Epoch 18/30\n",
      "9514/9514 [==============================] - 3s 340us/step - loss: 0.1951 - categorical_accuracy: 0.9265\n",
      "Epoch 19/30\n",
      "9514/9514 [==============================] - 3s 310us/step - loss: 0.1829 - categorical_accuracy: 0.9296\n",
      "Epoch 20/30\n",
      "9514/9514 [==============================] - 3s 312us/step - loss: 0.1795 - categorical_accuracy: 0.9315\n",
      "Epoch 21/30\n",
      "9514/9514 [==============================] - 3s 263us/step - loss: 0.1658 - categorical_accuracy: 0.9388\n",
      "Epoch 22/30\n",
      "9514/9514 [==============================] - 2s 258us/step - loss: 0.1621 - categorical_accuracy: 0.9416\n",
      "Epoch 23/30\n",
      "9514/9514 [==============================] - 2s 240us/step - loss: 0.1649 - categorical_accuracy: 0.9377\n",
      "Epoch 24/30\n",
      "9514/9514 [==============================] - 2s 259us/step - loss: 0.1522 - categorical_accuracy: 0.9422\n",
      "Epoch 25/30\n",
      "9514/9514 [==============================] - 3s 311us/step - loss: 0.1584 - categorical_accuracy: 0.9389\n",
      "Epoch 26/30\n",
      "9514/9514 [==============================] - 2s 244us/step - loss: 0.1400 - categorical_accuracy: 0.9467\n",
      "Epoch 27/30\n",
      "9514/9514 [==============================] - 2s 199us/step - loss: 0.1513 - categorical_accuracy: 0.9426\n",
      "Epoch 28/30\n",
      "9514/9514 [==============================] - 2s 219us/step - loss: 0.1454 - categorical_accuracy: 0.9456\n",
      "Epoch 29/30\n",
      "9514/9514 [==============================] - 2s 251us/step - loss: 0.1338 - categorical_accuracy: 0.9486\n",
      "Epoch 30/30\n",
      "9514/9514 [==============================] - 3s 356us/step - loss: 0.1341 - categorical_accuracy: 0.9508\n"
     ]
    },
    {
     "data": {
      "text/plain": [
       "<keras.callbacks.callbacks.History at 0x7f0618f3d610>"
      ]
     },
     "execution_count": 339,
     "metadata": {},
     "output_type": "execute_result"
    }
   ],
   "source": [
    "from keras.models import Sequential\n",
    "from keras.layers import Dense, Dropout, LSTM, Softmax, Conv1D, MaxPooling1D, Flatten\n",
    "\n",
    "cnn_2 = Sequential()\n",
    "cnn_2.add(Conv1D(filters=32, kernel_size=3, activation='relu', input_shape=(X_train.shape[1:])))\n",
    "cnn.add(Dropout(0.2))\n",
    "cnn_2.add(MaxPooling1D(pool_size=2))\n",
    "# cnn.add(Conv1D(filters=32, kernel_size=3, activation='relu'))\n",
    "# cnn.add(Dropout(0.2))\n",
    "# cnn.add(MaxPooling1D(pool_size=2))\n",
    "cnn_2.add(Flatten())\n",
    "cnn_2.add(Dropout(0.3))\n",
    "cnn_2.add(Dense(100, activation=\"relu\"))\n",
    "cnn_2.add(Dropout(0.2))\n",
    "cnn_2.add(Dense(windows.num_classes, activation=\"softmax\"))\n",
    "cnn_2.compile(\n",
    "    loss='categorical_crossentropy', \n",
    "    optimizer='adam', \n",
    "    metrics=[\"categorical_accuracy\"]\n",
    ")\n",
    "cnn_2.fit(X_train, Y_train_onehot, epochs=30, batch_size=32, verbose=1)"
   ]
  },
  {
   "cell_type": "code",
   "execution_count": 391,
   "metadata": {},
   "outputs": [
    {
     "name": "stdout",
     "output_type": "stream",
     "text": [
      "4078/4078 [==============================] - 0s 54us/step\n",
      "CNN_2 Accuracy: 93.2%\n",
      "Precision: 93.3%, Recall: 92.4%, Fscore: 92.8%\n",
      "Roc Auc Score: 99.4%\n"
     ]
    }
   ],
   "source": [
    "print(f\"CNN_2 Accuracy: {cnn_2.evaluate(X_test, Y_test_onehot)[1]:.1%}\")\n",
    "\n",
    "y_pred_onehot = cnn_2.predict(X_test)\n",
    "y_pred = y_pred_onehot.argmax(axis=1)\n",
    "\n",
    "from sklearn.metrics import precision_recall_fscore_support\n",
    "\n",
    "prec, recall, fscore, sup = precision_recall_fscore_support(Y_test, y_pred, average='macro')\n",
    "print(f\"Precision: {prec:.1%}, Recall: {recall:.1%}, Fscore: {fscore:.1%}\")\n",
    "\n",
    "from sklearn.metrics import roc_auc_score\n",
    "\n",
    "auc = roc_auc_score(Y_test_onehot, y_pred_onehot, multi_class=\"ovr\")\n",
    "print(f\"Roc Auc Score: {auc:.1%}\")"
   ]
  },
  {
   "cell_type": "markdown",
   "metadata": {},
   "source": [
    "## CNN 3 (Slightly Better)"
   ]
  },
  {
   "cell_type": "code",
   "execution_count": 350,
   "metadata": {
    "collapsed": true
   },
   "outputs": [
    {
     "name": "stdout",
     "output_type": "stream",
     "text": [
      "Epoch 1/30\n",
      " - 2s - loss: 0.9203 - categorical_accuracy: 0.5791\n",
      "Epoch 2/30\n",
      " - 2s - loss: 0.5841 - categorical_accuracy: 0.7352\n",
      "Epoch 3/30\n",
      " - 2s - loss: 0.5037 - categorical_accuracy: 0.7882\n",
      "Epoch 4/30\n",
      " - 2s - loss: 0.4571 - categorical_accuracy: 0.8079\n",
      "Epoch 5/30\n",
      " - 2s - loss: 0.4230 - categorical_accuracy: 0.8300\n",
      "Epoch 6/30\n",
      " - 2s - loss: 0.3914 - categorical_accuracy: 0.8406\n",
      "Epoch 7/30\n",
      " - 2s - loss: 0.3644 - categorical_accuracy: 0.8602\n",
      "Epoch 8/30\n",
      " - 2s - loss: 0.3447 - categorical_accuracy: 0.8678\n",
      "Epoch 9/30\n",
      " - 2s - loss: 0.3206 - categorical_accuracy: 0.8748\n",
      "Epoch 10/30\n",
      " - 2s - loss: 0.3028 - categorical_accuracy: 0.8863\n",
      "Epoch 11/30\n",
      " - 2s - loss: 0.2822 - categorical_accuracy: 0.8947\n",
      "Epoch 12/30\n",
      " - 2s - loss: 0.2634 - categorical_accuracy: 0.9028\n",
      "Epoch 13/30\n",
      " - 2s - loss: 0.2453 - categorical_accuracy: 0.9081\n",
      "Epoch 14/30\n",
      " - 2s - loss: 0.2219 - categorical_accuracy: 0.9217\n",
      "Epoch 15/30\n",
      " - 2s - loss: 0.2193 - categorical_accuracy: 0.9191\n",
      "Epoch 16/30\n",
      " - 2s - loss: 0.2124 - categorical_accuracy: 0.9198\n",
      "Epoch 17/30\n",
      " - 2s - loss: 0.2075 - categorical_accuracy: 0.9216\n",
      "Epoch 18/30\n",
      " - 2s - loss: 0.1931 - categorical_accuracy: 0.9294\n",
      "Epoch 19/30\n",
      " - 2s - loss: 0.1822 - categorical_accuracy: 0.9326\n",
      "Epoch 20/30\n",
      " - 2s - loss: 0.1784 - categorical_accuracy: 0.9359\n",
      "Epoch 21/30\n",
      " - 2s - loss: 0.1634 - categorical_accuracy: 0.9391\n",
      "Epoch 22/30\n",
      " - 2s - loss: 0.1641 - categorical_accuracy: 0.9386\n",
      "Epoch 23/30\n",
      " - 2s - loss: 0.1550 - categorical_accuracy: 0.9417\n",
      "Epoch 24/30\n",
      " - 2s - loss: 0.1488 - categorical_accuracy: 0.9441\n",
      "Epoch 25/30\n",
      " - 2s - loss: 0.1535 - categorical_accuracy: 0.9425\n",
      "Epoch 26/30\n",
      " - 2s - loss: 0.1440 - categorical_accuracy: 0.9466\n",
      "Epoch 27/30\n",
      " - 2s - loss: 0.1441 - categorical_accuracy: 0.9462\n",
      "Epoch 28/30\n",
      " - 2s - loss: 0.1322 - categorical_accuracy: 0.9497\n",
      "Epoch 29/30\n",
      " - 2s - loss: 0.1383 - categorical_accuracy: 0.9472\n",
      "Epoch 30/30\n",
      " - 2s - loss: 0.1350 - categorical_accuracy: 0.9480\n"
     ]
    },
    {
     "data": {
      "text/plain": [
       "<keras.callbacks.callbacks.History at 0x7f06187a1c10>"
      ]
     },
     "execution_count": 350,
     "metadata": {},
     "output_type": "execute_result"
    }
   ],
   "source": [
    "from keras.models import Sequential\n",
    "from keras.layers import Dense, Dropout, LSTM, Softmax, Conv1D, MaxPooling1D, Flatten\n",
    "\n",
    "cnn_3 = Sequential()\n",
    "cnn_3.add(Conv1D(filters=42, kernel_size=3, activation='relu', input_shape=(X_train.shape[1:])))\n",
    "cnn_3.add(Dropout(0.3))\n",
    "cnn_3.add(MaxPooling1D(pool_size=2))\n",
    "cnn_3.add(Flatten())\n",
    "cnn_3.add(Dropout(0.4))\n",
    "cnn_3.add(Dense(120, activation=\"relu\"))\n",
    "cnn_3.add(Dropout(0.3))\n",
    "cnn_3.add(Dense(windows.num_classes, activation=\"softmax\"))\n",
    "cnn_3.compile(\n",
    "    loss='categorical_crossentropy', \n",
    "    optimizer='adam', \n",
    "    metrics=[\"categorical_accuracy\"]\n",
    ")\n",
    "cnn_3.fit(X_train, Y_train_onehot, epochs=30, batch_size=32, verbose=2)"
   ]
  },
  {
   "cell_type": "code",
   "execution_count": 390,
   "metadata": {},
   "outputs": [
    {
     "name": "stdout",
     "output_type": "stream",
     "text": [
      "4078/4078 [==============================] - 0s 59us/step\n",
      "CNN_3 Accuracy: 94.1%\n",
      "Precision: 94.3%, Recall: 93.6%, Fscore: 94.0%\n",
      "Roc Auc Score: 99.4%\n"
     ]
    }
   ],
   "source": [
    "print(f\"CNN_3 Accuracy: {cnn_3.evaluate(X_test, Y_test_onehot)[1]:.1%}\")\n",
    "\n",
    "y_pred_onehot = cnn_3.predict(X_test)\n",
    "y_pred = y_pred_onehot.argmax(axis=1)\n",
    "\n",
    "from sklearn.metrics import precision_recall_fscore_support\n",
    "\n",
    "prec, recall, fscore, sup = precision_recall_fscore_support(Y_test, y_pred, average='macro')\n",
    "print(f\"Precision: {prec:.1%}, Recall: {recall:.1%}, Fscore: {fscore:.1%}\")\n",
    "\n",
    "from sklearn.metrics import roc_auc_score\n",
    "\n",
    "auc = roc_auc_score(Y_test_onehot, y_pred_onehot, multi_class=\"ovr\")\n",
    "print(f\"Roc Auc Score: {auc:.1%}\")"
   ]
  },
  {
   "cell_type": "code",
   "execution_count": 362,
   "metadata": {},
   "outputs": [
    {
     "data": {
      "image/png": "[encoded data removed]",
      "text/plain": [
       "<Figure size 648x432 with 2 Axes>"
      ]
     },
     "metadata": {},
     "output_type": "display_data"
    }
   ],
   "source": [
    "confusion(y_pred, Y_test, sorted(dataset.ACTIVITIES.values()), \"1D CNN\")"
   ]
  },
  {
   "cell_type": "markdown",
   "metadata": {},
   "source": [
    "# 1D CNN with Shorter and Longer Window"
   ]
  },
  {
   "cell_type": "markdown",
   "metadata": {},
   "source": [
    "## Shorter"
   ]
  },
  {
   "cell_type": "code",
   "execution_count": 365,
   "metadata": {},
   "outputs": [],
   "source": [
    "windows_short = datamanager.create_windows(set(Activity), 50, shuffle=True, seed=1, columns=['xaccel_norm', 'yaccel_norm', 'zaccel_norm', 'xrot_norm', 'yrot_norm', 'zrot_norm'])"
   ]
  },
  {
   "cell_type": "code",
   "execution_count": 366,
   "metadata": {},
   "outputs": [
    {
     "name": "stdout",
     "output_type": "stream",
     "text": [
      "X_s_train: (19404, 50, 6), X_s_test: (8316, 50, 6)\n",
      "Y_s_train: (19404,), Y_s_test: (8316,)\n",
      "Y_s_train_onehot: (19404, 6), Y_s_test_onehot: (8316, 6)\n",
      "X_s_train_flat: (19404, 300), X_s_test_flat: (8316, 300)\n"
     ]
    }
   ],
   "source": [
    "X_s = []\n",
    "Y_s = []\n",
    "Y_s_onehot = []\n",
    "for x, y in windows_short.to_keras_sequence(1):\n",
    "    x = x.squeeze(axis=0)\n",
    "    y = y.squeeze(axis=0)\n",
    "    Y_s_onehot.append(y)\n",
    "    X_s.append(x)\n",
    "    Y_s.append(y.argmax())\n",
    "X_s = numpy.asarray(X_s)\n",
    "Y_s = numpy.asarray(Y_s)\n",
    "Y_s_onehot = numpy.asarray(Y_s_onehot)\n",
    "\n",
    "boundary = round(len(X_s)*(70/100))\n",
    "X_s_train, X_s_test = X_s[:boundary], X_s[boundary:]\n",
    "Y_s_train, Y_s_test = Y_s[:boundary], Y_s[boundary:]\n",
    "Y_s_train_onehot, Y_s_test_onehot = Y_s_onehot[:boundary], Y_s_onehot[boundary:]\n",
    "\n",
    "s = X_s_train.shape\n",
    "X_s_train_flat, X_s_test_flat = X_s_train.reshape(-1, s[-1] * s[-2]), X_s_test.reshape(-1, s[-1] * s[-2])\n",
    "\n",
    "print(f\"X_s_train: {X_s_train.shape}, X_s_test: {X_s_test.shape}\")\n",
    "print(f\"Y_s_train: {Y_s_train.shape}, Y_s_test: {Y_s_test.shape}\")\n",
    "print(f\"Y_s_train_onehot: {Y_s_train_onehot.shape}, Y_s_test_onehot: {Y_s_test_onehot.shape}\")\n",
    "print(f\"X_s_train_flat: {X_s_train_flat.shape}, X_s_test_flat: {X_s_test_flat.shape}\")"
   ]
  },
  {
   "cell_type": "code",
   "execution_count": 367,
   "metadata": {
    "collapsed": true
   },
   "outputs": [
    {
     "name": "stdout",
     "output_type": "stream",
     "text": [
      "Epoch 1/30\n",
      " - 3s - loss: 0.8140 - categorical_accuracy: 0.6347\n",
      "Epoch 2/30\n",
      " - 2s - loss: 0.5580 - categorical_accuracy: 0.7689\n",
      "Epoch 3/30\n",
      " - 2s - loss: 0.4901 - categorical_accuracy: 0.8042\n",
      "Epoch 4/30\n",
      " - 2s - loss: 0.4407 - categorical_accuracy: 0.8302\n",
      "Epoch 5/30\n",
      " - 2s - loss: 0.3980 - categorical_accuracy: 0.8490\n",
      "Epoch 6/30\n",
      " - 2s - loss: 0.3608 - categorical_accuracy: 0.8682\n",
      "Epoch 7/30\n",
      " - 2s - loss: 0.3504 - categorical_accuracy: 0.8714\n",
      "Epoch 8/30\n",
      " - 2s - loss: 0.3198 - categorical_accuracy: 0.8854\n",
      "Epoch 9/30\n",
      " - 2s - loss: 0.2971 - categorical_accuracy: 0.8958\n",
      "Epoch 10/30\n",
      " - 2s - loss: 0.2814 - categorical_accuracy: 0.9000\n",
      "Epoch 11/30\n",
      " - 2s - loss: 0.2616 - categorical_accuracy: 0.9088\n",
      "Epoch 12/30\n",
      " - 2s - loss: 0.2556 - categorical_accuracy: 0.9127\n",
      "Epoch 13/30\n",
      " - 2s - loss: 0.2408 - categorical_accuracy: 0.9171\n",
      "Epoch 14/30\n",
      " - 2s - loss: 0.2284 - categorical_accuracy: 0.9217\n",
      "Epoch 15/30\n",
      " - 2s - loss: 0.2163 - categorical_accuracy: 0.9234\n",
      "Epoch 16/30\n",
      " - 2s - loss: 0.2129 - categorical_accuracy: 0.9265\n",
      "Epoch 17/30\n",
      " - 2s - loss: 0.2008 - categorical_accuracy: 0.9303\n",
      "Epoch 18/30\n",
      " - 2s - loss: 0.1977 - categorical_accuracy: 0.9318\n",
      "Epoch 19/30\n",
      " - 2s - loss: 0.1864 - categorical_accuracy: 0.9351\n",
      "Epoch 20/30\n",
      " - 2s - loss: 0.1946 - categorical_accuracy: 0.9310\n",
      "Epoch 21/30\n",
      " - 2s - loss: 0.1824 - categorical_accuracy: 0.9357\n",
      "Epoch 22/30\n",
      " - 2s - loss: 0.1757 - categorical_accuracy: 0.9380\n",
      "Epoch 23/30\n",
      " - 2s - loss: 0.1808 - categorical_accuracy: 0.9337\n",
      "Epoch 24/30\n",
      " - 2s - loss: 0.1754 - categorical_accuracy: 0.9358\n",
      "Epoch 25/30\n",
      " - 2s - loss: 0.1692 - categorical_accuracy: 0.9388\n",
      "Epoch 26/30\n",
      " - 2s - loss: 0.1648 - categorical_accuracy: 0.9393\n",
      "Epoch 27/30\n",
      " - 2s - loss: 0.1630 - categorical_accuracy: 0.9394\n",
      "Epoch 28/30\n",
      " - 2s - loss: 0.1659 - categorical_accuracy: 0.9372\n",
      "Epoch 29/30\n",
      " - 2s - loss: 0.1545 - categorical_accuracy: 0.9438\n",
      "Epoch 30/30\n",
      " - 2s - loss: 0.1597 - categorical_accuracy: 0.9405\n"
     ]
    },
    {
     "data": {
      "text/plain": [
       "<keras.callbacks.callbacks.History at 0x7f0617eff8e0>"
      ]
     },
     "execution_count": 367,
     "metadata": {},
     "output_type": "execute_result"
    }
   ],
   "source": [
    "from keras.models import Sequential\n",
    "from keras.layers import Dense, Dropout, LSTM, Softmax, Conv1D, MaxPooling1D, Flatten\n",
    "\n",
    "cnn_s_3 = Sequential()\n",
    "cnn_s_3.add(Conv1D(filters=42, kernel_size=3, activation='relu', input_shape=(X_s_train.shape[1:])))\n",
    "cnn_s_3.add(Dropout(0.2))\n",
    "cnn_s_3.add(MaxPooling1D(pool_size=2))\n",
    "# cnn.add(Conv1D(filters=32, kernel_size=3, activation='relu'))\n",
    "# cnn.add(Dropout(0.2))\n",
    "# cnn.add(MaxPooling1D(pool_size=2))\n",
    "cnn_s_3.add(Flatten())\n",
    "cnn_s_3.add(Dropout(0.3))\n",
    "cnn_s_3.add(Dense(120, activation=\"relu\"))\n",
    "cnn_s_3.add(Dropout(0.2))\n",
    "cnn_s_3.add(Dense(windows.num_classes, activation=\"softmax\"))\n",
    "cnn_s_3.compile(\n",
    "    loss='categorical_crossentropy', \n",
    "    optimizer='adam', \n",
    "    metrics=[\"categorical_accuracy\"]\n",
    ")\n",
    "cnn_s_3.fit(X_s_train, Y_s_train_onehot, epochs=30, batch_size=32, verbose=2)"
   ]
  },
  {
   "cell_type": "code",
   "execution_count": 392,
   "metadata": {},
   "outputs": [
    {
     "name": "stdout",
     "output_type": "stream",
     "text": [
      "8316/8316 [==============================] - 0s 39us/step\n",
      "CNN_S_3 Accuracy: 94.1%\n",
      "Precision: 94.7%, Recall: 93.7%, Fscore: 94.1%\n",
      "Roc Auc Score: 99.5%\n"
     ]
    }
   ],
   "source": [
    "print(f\"CNN_S_3 Accuracy: {cnn_s_3.evaluate(X_s_test, Y_s_test_onehot)[1]:.1%}\")\n",
    "\n",
    "y_s_pred_onehot = cnn_s_3.predict(X_s_test)\n",
    "y_s_pred = y_s_pred_onehot.argmax(axis=1)\n",
    "\n",
    "from sklearn.metrics import precision_recall_fscore_support\n",
    "\n",
    "prec, recall, fscore, sup = precision_recall_fscore_support(Y_s_test, y_s_pred, average='macro')\n",
    "print(f\"Precision: {prec:.1%}, Recall: {recall:.1%}, Fscore: {fscore:.1%}\")\n",
    "\n",
    "from sklearn.metrics import roc_auc_score\n",
    "\n",
    "auc = roc_auc_score(Y_s_test_onehot, y_s_pred_onehot, multi_class=\"ovr\")\n",
    "print(f\"Roc Auc Score: {auc:.1%}\")"
   ]
  },
  {
   "cell_type": "code",
   "execution_count": 387,
   "metadata": {},
   "outputs": [
    {
     "data": {
      "image/png": "[encoded data removed]",
      "text/plain": [
       "<Figure size 648x432 with 2 Axes>"
      ]
     },
     "metadata": {},
     "output_type": "display_data"
    }
   ],
   "source": [
    "confusion(y_s_pred, Y_s_test, sorted(dataset.ACTIVITIES.values()), \"1D CNN Short\")"
   ]
  },
  {
   "cell_type": "markdown",
   "metadata": {},
   "source": [
    "## Longer Window"
   ]
  },
  {
   "cell_type": "code",
   "execution_count": 370,
   "metadata": {},
   "outputs": [],
   "source": [
    "windows_long = datamanager.create_windows(set(Activity), 250, shuffle=True, seed=1, columns=['xaccel_norm', 'yaccel_norm', 'zaccel_norm', 'xrot_norm', 'yrot_norm', 'zrot_norm'])"
   ]
  },
  {
   "cell_type": "code",
   "execution_count": 373,
   "metadata": {},
   "outputs": [
    {
     "name": "stdout",
     "output_type": "stream",
     "text": [
      "X_l_train: (3571, 250, 6), X_l_test: (1531, 250, 6)\n",
      "Y_l_train: (3571,), Y_l_test: (1531,)\n",
      "Y_l_train_onehot: (3571, 6), Y_l_test_onehot: (1531, 6)\n",
      "X_l_train_flat: (3571, 1500), X_l_test_flat: (1531, 1500)\n"
     ]
    }
   ],
   "source": [
    "X_l = []\n",
    "Y_l = []\n",
    "Y_l_onehot = []\n",
    "for x, y in windows_long.to_keras_sequence(1):\n",
    "    x = x.squeeze(axis=0)\n",
    "    y = y.squeeze(axis=0)\n",
    "    Y_l_onehot.append(y)\n",
    "    X_l.append(x)\n",
    "    Y_l.append(y.argmax())\n",
    "X_l = numpy.asarray(X_l)\n",
    "Y_l = numpy.asarray(Y_l)\n",
    "Y_l_onehot = numpy.asarray(Y_l_onehot)\n",
    "\n",
    "boundary = round(len(X_l)*(70/100))\n",
    "X_l_train, X_l_test = X_l[:boundary], X_l[boundary:]\n",
    "Y_l_train, Y_l_test = Y_l[:boundary], Y_l[boundary:]\n",
    "Y_l_train_onehot, Y_l_test_onehot = Y_l_onehot[:boundary], Y_l_onehot[boundary:]\n",
    "\n",
    "s = X_l_train.shape\n",
    "X_l_train_flat, X_l_test_flat = X_l_train.reshape(-1, s[-1] * s[-2]), X_l_test.reshape(-1, s[-1] * s[-2])\n",
    "\n",
    "print(f\"X_l_train: {X_l_train.shape}, X_l_test: {X_l_test.shape}\")\n",
    "print(f\"Y_l_train: {Y_l_train.shape}, Y_l_test: {Y_l_test.shape}\")\n",
    "print(f\"Y_l_train_onehot: {Y_l_train_onehot.shape}, Y_l_test_onehot: {Y_l_test_onehot.shape}\")\n",
    "print(f\"X_l_train_flat: {X_l_train_flat.shape}, X_l_test_flat: {X_l_test_flat.shape}\")"
   ]
  },
  {
   "cell_type": "code",
   "execution_count": 385,
   "metadata": {
    "collapsed": true
   },
   "outputs": [
    {
     "name": "stdout",
     "output_type": "stream",
     "text": [
      "Epoch 1/30\n",
      " - 1s - loss: 1.1214 - categorical_accuracy: 0.5024\n",
      "Epoch 2/30\n",
      " - 1s - loss: 0.6637 - categorical_accuracy: 0.6788\n",
      "Epoch 3/30\n",
      " - 1s - loss: 0.5356 - categorical_accuracy: 0.7530\n",
      "Epoch 4/30\n",
      " - 1s - loss: 0.4791 - categorical_accuracy: 0.7777\n",
      "Epoch 5/30\n",
      " - 1s - loss: 0.4325 - categorical_accuracy: 0.8073\n",
      "Epoch 6/30\n",
      " - 1s - loss: 0.4037 - categorical_accuracy: 0.8317\n",
      "Epoch 7/30\n",
      " - 1s - loss: 0.3891 - categorical_accuracy: 0.8283\n",
      "Epoch 8/30\n",
      " - 1s - loss: 0.3688 - categorical_accuracy: 0.8379\n",
      "Epoch 9/30\n",
      " - 1s - loss: 0.3369 - categorical_accuracy: 0.8586\n",
      "Epoch 10/30\n",
      " - 1s - loss: 0.3238 - categorical_accuracy: 0.8611\n",
      "Epoch 11/30\n",
      " - 1s - loss: 0.2901 - categorical_accuracy: 0.8885\n",
      "Epoch 12/30\n",
      " - 1s - loss: 0.2777 - categorical_accuracy: 0.8877\n",
      "Epoch 13/30\n",
      " - 1s - loss: 0.2641 - categorical_accuracy: 0.8995\n",
      "Epoch 14/30\n",
      " - 1s - loss: 0.2588 - categorical_accuracy: 0.9006\n",
      "Epoch 15/30\n",
      " - 1s - loss: 0.2507 - categorical_accuracy: 0.8983\n",
      "Epoch 16/30\n",
      " - 1s - loss: 0.2367 - categorical_accuracy: 0.9081\n",
      "Epoch 17/30\n",
      " - 1s - loss: 0.2194 - categorical_accuracy: 0.9157\n",
      "Epoch 18/30\n",
      " - 1s - loss: 0.2322 - categorical_accuracy: 0.9076\n",
      "Epoch 19/30\n",
      " - 1s - loss: 0.2189 - categorical_accuracy: 0.9129\n",
      "Epoch 20/30\n",
      " - 1s - loss: 0.1979 - categorical_accuracy: 0.9261\n",
      "Epoch 21/30\n",
      " - 1s - loss: 0.1983 - categorical_accuracy: 0.9202\n",
      "Epoch 22/30\n",
      " - 1s - loss: 0.1853 - categorical_accuracy: 0.9278\n",
      "Epoch 23/30\n",
      " - 1s - loss: 0.1850 - categorical_accuracy: 0.9278\n",
      "Epoch 24/30\n",
      " - 1s - loss: 0.1841 - categorical_accuracy: 0.9317\n",
      "Epoch 25/30\n",
      " - 1s - loss: 0.1767 - categorical_accuracy: 0.9300\n",
      "Epoch 26/30\n",
      " - 1s - loss: 0.1702 - categorical_accuracy: 0.9331\n",
      "Epoch 27/30\n",
      " - 1s - loss: 0.1738 - categorical_accuracy: 0.9336\n",
      "Epoch 28/30\n",
      " - 1s - loss: 0.1558 - categorical_accuracy: 0.9404\n",
      "Epoch 29/30\n",
      " - 1s - loss: 0.1564 - categorical_accuracy: 0.9415\n",
      "Epoch 30/30\n",
      " - 1s - loss: 0.1369 - categorical_accuracy: 0.9493\n"
     ]
    },
    {
     "data": {
      "text/plain": [
       "<keras.callbacks.callbacks.History at 0x7f061972c4c0>"
      ]
     },
     "execution_count": 385,
     "metadata": {},
     "output_type": "execute_result"
    }
   ],
   "source": [
    "from keras.models import Sequential\n",
    "from keras.layers import Dense, Dropout, LSTM, Softmax, Conv1D, MaxPooling1D, Flatten\n",
    "\n",
    "cnn_l_3 = Sequential()\n",
    "cnn_l_3.add(Conv1D(filters=42, kernel_size=3, activation='relu', input_shape=(X_l_train.shape[1:])))\n",
    "cnn_l_3.add(Dropout(0.3))\n",
    "cnn_l_3.add(MaxPooling1D(pool_size=2))\n",
    "cnn_l_3.add(Flatten())\n",
    "cnn_l_3.add(Dropout(0.4))\n",
    "cnn_l_3.add(Dense(100, activation=\"relu\"))\n",
    "cnn_l_3.add(Dropout(0.3))\n",
    "cnn_l_3.add(Dense(windows.num_classes, activation=\"softmax\"))\n",
    "cnn_l_3.compile(\n",
    "    loss='categorical_crossentropy', \n",
    "    optimizer='adam', \n",
    "    metrics=[\"categorical_accuracy\"]\n",
    ")\n",
    "cnn_l_3.fit(X_l_train, Y_l_train_onehot, epochs=30, batch_size=32, verbose=2)"
   ]
  },
  {
   "cell_type": "code",
   "execution_count": 393,
   "metadata": {},
   "outputs": [
    {
     "name": "stdout",
     "output_type": "stream",
     "text": [
      "1531/1531 [==============================] - 0s 95us/step\n",
      "CNN_L_3 Accuracy: 92.8%\n",
      "Precision: 92.6%, Recall: 91.0%, Fscore: 91.7%\n",
      "Roc Auc Score: 99.0%\n"
     ]
    }
   ],
   "source": [
    "print(f\"CNN_L_3 Accuracy: {cnn_l_3.evaluate(X_l_test, Y_l_test_onehot)[1]:.1%}\")\n",
    "\n",
    "y_l_pred_onehot = cnn_l_3.predict(X_l_test)\n",
    "y_l_pred = y_l_pred_onehot.argmax(axis=1)\n",
    "\n",
    "from sklearn.metrics import precision_recall_fscore_support\n",
    "\n",
    "prec, recall, fscore, sup = precision_recall_fscore_support(Y_l_test, y_l_pred, average='macro')\n",
    "print(f\"Precision: {prec:.1%}, Recall: {recall:.1%}, Fscore: {fscore:.1%}\")\n",
    "\n",
    "from sklearn.metrics import roc_auc_score\n",
    "\n",
    "auc = roc_auc_score(Y_l_test_onehot, y_l_pred_onehot, multi_class=\"ovr\")\n",
    "print(f\"Roc Auc Score: {auc:.1%}\")"
   ]
  },
  {
   "cell_type": "code",
   "execution_count": 388,
   "metadata": {},
   "outputs": [
    {
     "data": {
      "image/png": "[encoded data removed]",
      "text/plain": [
       "<Figure size 648x432 with 2 Axes>"
      ]
     },
     "metadata": {},
     "output_type": "display_data"
    }
   ],
   "source": [
    "confusion(y_l_pred, Y_l_test, sorted(dataset.ACTIVITIES.values()), \"1D CNN Long\")"
   ]
  },
  {
   "cell_type": "markdown",
   "metadata": {},
   "source": [
    "# Saving Models\n",
    "\n",
    "- KNN { K=1 }\n",
    "- MLP\n",
    "- LSTM with 2 LSTM\n",
    "- 1D CNNs"
   ]
  },
  {
   "cell_type": "code",
   "execution_count": 395,
   "metadata": {},
   "outputs": [
    {
     "name": "stderr",
     "output_type": "stream",
     "text": [
      "/home/orcan/.local/share/virtualenvs/user-activity-generator-2M2ZtGjA/lib/python3.8/site-packages/joblib/numpy_pickle.py:103: DeprecationWarning:\n",
      "\n",
      "tostring() is deprecated. Use tobytes() instead.\n",
      "\n"
     ]
    },
    {
     "data": {
      "text/plain": [
       "['knn.joblib']"
      ]
     },
     "execution_count": 395,
     "metadata": {},
     "output_type": "execute_result"
    }
   ],
   "source": [
    "from joblib import dump\n",
    "dump(mlp, 'mlp.joblib')\n",
    "dump(knn_1, 'knn.joblib')"
   ]
  },
  {
   "cell_type": "code",
   "execution_count": 396,
   "metadata": {},
   "outputs": [],
   "source": [
    "cnn_3.save(\"models/classifiers/cnn_classifier.h5\")\n",
    "cnn_s_3.save(\"models/classifiers/cnn_s_classifier.h5\")\n",
    "cnn_l_3.save(\"models/classifiers/cnn_l_classifier.h5\")\n",
    "lstm_2.save(\"models/classifiers/lstm_classifier.h5\")"
   ]
  }
 ],
 "metadata": {
  "kernelspec": {
   "display_name": "Python 3",
   "language": "python",
   "name": "python3"
  },
  "language_info": {
   "codemirror_mode": {
    "name": "ipython",
    "version": 3
   },
   "file_extension": ".py",
   "mimetype": "text/x-python",
   "name": "python",
   "nbconvert_exporter": "python",
   "pygments_lexer": "ipython3",
   "version": "3.8.3"
  }
 },
 "nbformat": 4,
 "nbformat_minor": 4
}
